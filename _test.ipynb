{
 "cells": [
  {
   "cell_type": "code",
   "execution_count": 11,
   "metadata": {},
   "outputs": [],
   "source": [
    "from _linear import LinearRegression\n",
    "import _dgp as dg\n",
    "from _metrics import mse_score, CrossValidation, accuracy_score,f1_score\n",
    "from  _logistic import LogisticRegression\n",
    "import numpy as np\n",
    "import pandas as pd"
   ]
  },
  {
   "cell_type": "markdown",
   "metadata": {},
   "source": [
    "## **Table of Contents**\n",
    "\n",
    "- [Linear Regression](#linear-regression)\n",
    "  - [Generate data and fit first model](#generate-data-and-fit-first-model)\n",
    "  - [Evaluate model performance](#evaluate-model-performance)\n",
    "  - [Automatic selection of variables](#automatic-selection-of-variables) \n",
    "  - [Drawbacks and to do list](#drawbacks-and-to-do-list)\n",
    "\n",
    "- [Logistic Regression](#logistic-regression)\n",
    "  - [Work with excel data (5 variables in total)](#work-with-excel-data-5-variables-in-total)\n",
    "  - [Evaluate model performance](#evaluate-model-performance-logistic-regression)\n",
    "  - [Automatic selection of variables](#automatic-selection-of-variables-logistic-regression)\n",
    "  - [Generate 50 variables and autoselection](#Generate-50-variables-and-autoselection)\n",
    "\n",
    "\n",
    "\n",
    "- [Logistic Regression OVR](#Logistic-Regression-OVR)\n",
    "  - [Fit and predict model](#Fit-and-predict-model)\n",
    "  - [Automatic selection of variables](#automatic-selection-of-variables-Log-OVR)\n",
    "  - [Evaluate model performance](#Evaluate-model-performance-Log-OVR)\n",
    "\n",
    "\n",
    "\n",
    "- [Logistic Regression Softmax](#Logistic-Regression-Softmax)\n",
    "  - [Fit and predict model](#Fit-and-predict-model-Log-SFTMX)\n",
    "  - [Evaluate model performance](#Evaluate-model-performance-Log-SFTMX)\n",
    "  - [Automatic selection of variables](#automatic-selection-of-variables-Log-SFTMX)\n"
   ]
  },
  {
   "cell_type": "markdown",
   "metadata": {},
   "source": [
    "\n",
    "## **Linear Regression**\n"
   ]
  },
  {
   "cell_type": "markdown",
   "metadata": {},
   "source": [
    "### **Generate data and fit first model**"
   ]
  },
  {
   "cell_type": "markdown",
   "metadata": {},
   "source": [
    "Generate data with no correlation with only 5 true variables among 50 variables"
   ]
  },
  {
   "cell_type": "code",
   "execution_count": 19,
   "metadata": {},
   "outputs": [
    {
     "name": "stdout",
     "output_type": "stream",
     "text": [
      "(500, 50)\n",
      "(500,)\n"
     ]
    }
   ],
   "source": [
    "x,y=dg.gen(type=1)\n",
    "#get matrix size to understand what is the data begind\n",
    "print(x.shape)\n",
    "print(y.shape)"
   ]
  },
  {
   "cell_type": "markdown",
   "metadata": {},
   "source": [
    "Run linear regression and get B parameter"
   ]
  },
  {
   "cell_type": "code",
   "execution_count": 20,
   "metadata": {},
   "outputs": [
    {
     "name": "stdout",
     "output_type": "stream",
     "text": [
      "algorithm did  converge under 100 iterations (at 2 iterations)\n"
     ]
    },
    {
     "data": {
      "text/plain": [
       "array([ 5.00655327e-03,  2.50082381e+00,  1.30074205e+00,  5.04948335e-01,\n",
       "       -4.97982842e-01, -3.40690769e+00,  7.02894127e-03,  1.33090720e-03,\n",
       "        1.56569681e-03, -1.47444277e-03,  2.47601399e-03,  1.20897024e-03,\n",
       "       -4.88315140e-03,  3.25176864e-03,  3.64169932e-03,  9.85333779e-03,\n",
       "       -9.13441909e-03, -5.45129963e-03,  1.93953831e-03,  4.12843286e-03,\n",
       "        1.82160930e-03,  4.24143645e-03, -3.80682447e-03, -5.74690924e-03,\n",
       "        8.47523959e-03,  4.97722735e-03, -3.73118438e-03,  1.47095850e-03,\n",
       "       -7.20803307e-03,  1.07752324e-03, -5.76673274e-03, -1.73347510e-03,\n",
       "       -5.03862378e-03, -4.76832106e-03, -3.81665323e-03,  5.61282066e-04,\n",
       "       -2.48094489e-03, -2.61997771e-03,  3.52033472e-04, -7.28302011e-03,\n",
       "       -3.99277905e-03,  2.65484122e-03, -3.34223776e-04,  1.23836303e-03,\n",
       "        1.83873220e-03,  1.26646513e-03,  3.83905807e-03,  7.28205594e-04,\n",
       "        6.07535846e-03,  5.12442499e-03,  6.35777391e-03])"
      ]
     },
     "execution_count": 20,
     "metadata": {},
     "output_type": "execute_result"
    }
   ],
   "source": [
    "#use Newton Raphson optimisation which is the best optimiser for parametric models\n",
    "regression=LinearRegression(solver=\"nr\")\n",
    "regression.fit(x,y)"
   ]
  },
  {
   "cell_type": "markdown",
   "metadata": {},
   "source": [
    "As we used NR optimisation, it converged very fast, only in 2 iterations\n",
    "\n",
    "if We want to interpret Linear regression results, we can do so by typing this command:"
   ]
  },
  {
   "cell_type": "code",
   "execution_count": 21,
   "metadata": {},
   "outputs": [
    {
     "data": {
      "text/html": [
       "<div>\n",
       "<style scoped>\n",
       "    .dataframe tbody tr th:only-of-type {\n",
       "        vertical-align: middle;\n",
       "    }\n",
       "\n",
       "    .dataframe tbody tr th {\n",
       "        vertical-align: top;\n",
       "    }\n",
       "\n",
       "    .dataframe thead th {\n",
       "        text-align: right;\n",
       "    }\n",
       "</style>\n",
       "<table border=\"1\" class=\"dataframe\">\n",
       "  <thead>\n",
       "    <tr style=\"text-align: right;\">\n",
       "      <th></th>\n",
       "      <th>params</th>\n",
       "      <th>std</th>\n",
       "      <th>t value</th>\n",
       "      <th>p value</th>\n",
       "    </tr>\n",
       "  </thead>\n",
       "  <tbody>\n",
       "    <tr>\n",
       "      <th>0</th>\n",
       "      <td>0.005007</td>\n",
       "      <td>0.004222</td>\n",
       "      <td>1.185729</td>\n",
       "      <td>0.2364</td>\n",
       "    </tr>\n",
       "    <tr>\n",
       "      <th>1</th>\n",
       "      <td>2.500824</td>\n",
       "      <td>0.004233</td>\n",
       "      <td>590.833936</td>\n",
       "      <td>0.0000</td>\n",
       "    </tr>\n",
       "    <tr>\n",
       "      <th>2</th>\n",
       "      <td>1.300742</td>\n",
       "      <td>0.004030</td>\n",
       "      <td>322.782025</td>\n",
       "      <td>0.0000</td>\n",
       "    </tr>\n",
       "    <tr>\n",
       "      <th>3</th>\n",
       "      <td>0.504948</td>\n",
       "      <td>0.004301</td>\n",
       "      <td>117.405398</td>\n",
       "      <td>0.0000</td>\n",
       "    </tr>\n",
       "    <tr>\n",
       "      <th>4</th>\n",
       "      <td>-0.497983</td>\n",
       "      <td>0.004286</td>\n",
       "      <td>-116.180961</td>\n",
       "      <td>0.0000</td>\n",
       "    </tr>\n",
       "  </tbody>\n",
       "</table>\n",
       "</div>"
      ],
      "text/plain": [
       "     params       std     t value  p value\n",
       "0  0.005007  0.004222    1.185729   0.2364\n",
       "1  2.500824  0.004233  590.833936   0.0000\n",
       "2  1.300742  0.004030  322.782025   0.0000\n",
       "3  0.504948  0.004301  117.405398   0.0000\n",
       "4 -0.497983  0.004286 -116.180961   0.0000"
      ]
     },
     "execution_count": 21,
     "metadata": {},
     "output_type": "execute_result"
    }
   ],
   "source": [
    "regression.get_inference().head()"
   ]
  },
  {
   "cell_type": "markdown",
   "metadata": {},
   "source": [
    "### **Evaluate model performance**"
   ]
  },
  {
   "cell_type": "markdown",
   "metadata": {},
   "source": [
    "We can evaluate model performance by looking at Mean squared error"
   ]
  },
  {
   "cell_type": "code",
   "execution_count": 22,
   "metadata": {},
   "outputs": [
    {
     "data": {
      "text/plain": [
       "0.008061146019668532"
      ]
     },
     "execution_count": 22,
     "metadata": {},
     "output_type": "execute_result"
    }
   ],
   "source": [
    "mse_score(y,regression.predict(x))"
   ]
  },
  {
   "cell_type": "markdown",
   "metadata": {},
   "source": [
    "However, the best way to evaluate model performance remains Cross Validation for several reasons"
   ]
  },
  {
   "cell_type": "code",
   "execution_count": 29,
   "metadata": {},
   "outputs": [
    {
     "name": "stdout",
     "output_type": "stream",
     "text": [
      "algorithm did  converge under 100 iterations (at 2 iterations)\n",
      "algorithm did  converge under 100 iterations (at 2 iterations)\n",
      "algorithm did  converge under 100 iterations (at 2 iterations)\n",
      "algorithm did  converge under 100 iterations (at 2 iterations)\n",
      "algorithm did  converge under 100 iterations (at 2 iterations)\n",
      "algorithm did  converge under 100 iterations (at 2 iterations)\n",
      "algorithm did  converge under 100 iterations (at 2 iterations)\n",
      "[0.011849304996587129, 0.01404096616414492, 0.0092667697494742, 0.008011126327296225, 0.010549941320124203, 0.009327920843915722, 0.005760201777866242]\n"
     ]
    }
   ],
   "source": [
    "list_of_mse=CrossValidation(Class_algorithm=regression,x=x,y=y,metrics_function=mse_score,nb_k_fold=6)\n",
    "print(list_of_mse)"
   ]
  },
  {
   "cell_type": "markdown",
   "metadata": {},
   "source": [
    "we can average these results to get average model performance"
   ]
  },
  {
   "cell_type": "code",
   "execution_count": 24,
   "metadata": {},
   "outputs": [
    {
     "data": {
      "text/plain": [
       "0.012661938624977375"
      ]
     },
     "execution_count": 24,
     "metadata": {},
     "output_type": "execute_result"
    }
   ],
   "source": [
    "np.mean(list_of_mse)"
   ]
  },
  {
   "cell_type": "markdown",
   "metadata": {},
   "source": [
    "### **Automatic selection of variables**"
   ]
  },
  {
   "cell_type": "markdown",
   "metadata": {},
   "source": [
    "**However, it is not a good practice to perform linear regression using all variables.** In order to obtain the best subset, several strategies can be adopted:\n",
    "\n",
    "- **VIF models:** These identify and drop collinear variables to avoid multicollinearity issues.\n",
    "- **Lasso regression:** This technique can be used for feature selection by penalizing the absolute size of the regression coefficients.\n",
    "- **Forward/Backward/Stepwise selection:** These are iterative methods for feature selection, where variables are added or removed based on their impact on model performance.\n",
    "\n",
    "In this section we will use last suggestion\n"
   ]
  },
  {
   "cell_type": "code",
   "execution_count": 25,
   "metadata": {},
   "outputs": [
    {
     "data": {
      "text/plain": [
       "array([4, 0, 1, 3, 2])"
      ]
     },
     "execution_count": 25,
     "metadata": {},
     "output_type": "execute_result"
    }
   ],
   "source": [
    "col_index=regression.autoselection(\"forward\",\"BIC_ll\",print_message=False)\n",
    "col_index"
   ]
  },
  {
   "cell_type": "markdown",
   "metadata": {},
   "source": [
    "and we get the following columns of X Matrix , first 5 variables that are also 5 true variables that we defined in dgp"
   ]
  },
  {
   "cell_type": "code",
   "execution_count": 26,
   "metadata": {},
   "outputs": [
    {
     "data": {
      "text/plain": [
       "array([[ 0.65152199,  2.06536844,  0.93297886, -1.31013114, -1.09217254],\n",
       "       [ 0.13988077,  1.2367918 ,  0.27315847, -0.75786061,  0.36138793],\n",
       "       [-0.80737236,  0.83622389,  1.41390816, -0.77262775, -0.20233063],\n",
       "       ...,\n",
       "       [-0.5243483 , -0.57644198,  0.05976386,  0.20421151, -1.15144094],\n",
       "       [ 0.55245561,  0.48245167,  0.17420111, -1.4384277 ,  0.49908468],\n",
       "       [-0.79357785, -3.16333649, -1.06427108, -0.67489721, -0.59786218]])"
      ]
     },
     "execution_count": 26,
     "metadata": {},
     "output_type": "execute_result"
    }
   ],
   "source": [
    "x[:,col_index]"
   ]
  },
  {
   "cell_type": "code",
   "execution_count": 27,
   "metadata": {},
   "outputs": [
    {
     "data": {
      "text/plain": [
       "array([0, 4, 2, 1, 3])"
      ]
     },
     "execution_count": 27,
     "metadata": {},
     "output_type": "execute_result"
    }
   ],
   "source": [
    "col_index=regression.autoselection(\"stepwise\",\"BIC_ll\",print_message=False)\n",
    "col_index"
   ]
  },
  {
   "cell_type": "code",
   "execution_count": 28,
   "metadata": {},
   "outputs": [
    {
     "data": {
      "text/plain": [
       "array([0, 1, 2, 3, 4])"
      ]
     },
     "execution_count": 28,
     "metadata": {},
     "output_type": "execute_result"
    }
   ],
   "source": [
    "col_index=regression.autoselection(\"backward\",\"BIC_ll\",print_message=False)\n",
    "col_index"
   ]
  },
  {
   "cell_type": "markdown",
   "metadata": {},
   "source": [
    "### **Drawbacks and to do list**"
   ]
  },
  {
   "cell_type": "markdown",
   "metadata": {},
   "source": [
    "**In this section, we discussed the machine learning approach of estimating the model parameters of Linear Regression.**\n",
    "\n",
    "<span style=\"color:red\"> However, we did not analyze the validity tests of normality and homoscedasticity of residuals, endogenous variables, etc. This section will be developed soon.</span>\n",
    "\n",
    "\n",
    "\n",
    "\n",
    "\n",
    "\n",
    "\n"
   ]
  },
  {
   "cell_type": "markdown",
   "metadata": {},
   "source": [
    "## **Logistic Regression**"
   ]
  },
  {
   "cell_type": "markdown",
   "metadata": {},
   "source": [
    "### **Work with excel data (5 variables in total)**"
   ]
  },
  {
   "cell_type": "markdown",
   "metadata": {},
   "source": [
    "Load data and explore "
   ]
  },
  {
   "cell_type": "code",
   "execution_count": 30,
   "metadata": {},
   "outputs": [],
   "source": [
    "table=pd.read_csv(\"data/exampleLR.csv\")"
   ]
  },
  {
   "cell_type": "code",
   "execution_count": 31,
   "metadata": {},
   "outputs": [
    {
     "data": {
      "text/html": [
       "<div>\n",
       "<style scoped>\n",
       "    .dataframe tbody tr th:only-of-type {\n",
       "        vertical-align: middle;\n",
       "    }\n",
       "\n",
       "    .dataframe tbody tr th {\n",
       "        vertical-align: top;\n",
       "    }\n",
       "\n",
       "    .dataframe thead th {\n",
       "        text-align: right;\n",
       "    }\n",
       "</style>\n",
       "<table border=\"1\" class=\"dataframe\">\n",
       "  <thead>\n",
       "    <tr style=\"text-align: right;\">\n",
       "      <th></th>\n",
       "      <th>Unnamed: 0</th>\n",
       "      <th>V1</th>\n",
       "      <th>V2</th>\n",
       "      <th>V3</th>\n",
       "      <th>V4</th>\n",
       "      <th>V5</th>\n",
       "      <th>y</th>\n",
       "    </tr>\n",
       "  </thead>\n",
       "  <tbody>\n",
       "    <tr>\n",
       "      <th>0</th>\n",
       "      <td>0</td>\n",
       "      <td>-0.560476</td>\n",
       "      <td>-0.601893</td>\n",
       "      <td>-0.995799</td>\n",
       "      <td>-0.820987</td>\n",
       "      <td>-0.511604</td>\n",
       "      <td>0</td>\n",
       "    </tr>\n",
       "    <tr>\n",
       "      <th>1</th>\n",
       "      <td>1</td>\n",
       "      <td>-0.230177</td>\n",
       "      <td>-0.993699</td>\n",
       "      <td>-1.039955</td>\n",
       "      <td>-0.307257</td>\n",
       "      <td>0.236938</td>\n",
       "      <td>0</td>\n",
       "    </tr>\n",
       "    <tr>\n",
       "      <th>2</th>\n",
       "      <td>2</td>\n",
       "      <td>1.558708</td>\n",
       "      <td>1.026785</td>\n",
       "      <td>-0.017980</td>\n",
       "      <td>-0.902098</td>\n",
       "      <td>-0.541589</td>\n",
       "      <td>1</td>\n",
       "    </tr>\n",
       "    <tr>\n",
       "      <th>3</th>\n",
       "      <td>3</td>\n",
       "      <td>0.070508</td>\n",
       "      <td>0.751061</td>\n",
       "      <td>-0.132175</td>\n",
       "      <td>0.627069</td>\n",
       "      <td>1.219228</td>\n",
       "      <td>0</td>\n",
       "    </tr>\n",
       "    <tr>\n",
       "      <th>4</th>\n",
       "      <td>4</td>\n",
       "      <td>0.129288</td>\n",
       "      <td>-1.509167</td>\n",
       "      <td>-2.549343</td>\n",
       "      <td>1.120355</td>\n",
       "      <td>0.174136</td>\n",
       "      <td>0</td>\n",
       "    </tr>\n",
       "  </tbody>\n",
       "</table>\n",
       "</div>"
      ],
      "text/plain": [
       "   Unnamed: 0        V1        V2        V3        V4        V5  y\n",
       "0           0 -0.560476 -0.601893 -0.995799 -0.820987 -0.511604  0\n",
       "1           1 -0.230177 -0.993699 -1.039955 -0.307257  0.236938  0\n",
       "2           2  1.558708  1.026785 -0.017980 -0.902098 -0.541589  1\n",
       "3           3  0.070508  0.751061 -0.132175  0.627069  1.219228  0\n",
       "4           4  0.129288 -1.509167 -2.549343  1.120355  0.174136  0"
      ]
     },
     "execution_count": 31,
     "metadata": {},
     "output_type": "execute_result"
    }
   ],
   "source": [
    "table.head()"
   ]
  },
  {
   "cell_type": "markdown",
   "metadata": {},
   "source": [
    "Always convert data to numpy array before starting the work"
   ]
  },
  {
   "cell_type": "code",
   "execution_count": 32,
   "metadata": {},
   "outputs": [],
   "source": [
    "x,y=np.array(table.drop([\"y\",\"Unnamed: 0\"],axis=1)),np.array(table[\"y\"])"
   ]
  },
  {
   "cell_type": "markdown",
   "metadata": {},
   "source": [
    "**Are classes balanced?**\n",
    "\n",
    "- If yes, the use of accuracy is enough (our case).\n",
    "- If not:\n",
    "  - Use other metrics such as precision, recall, F1 score, etc.\n",
    "  - Do over/undersampling.\n",
    "\n"
   ]
  },
  {
   "cell_type": "code",
   "execution_count": 33,
   "metadata": {},
   "outputs": [
    {
     "data": {
      "text/plain": [
       "y\n",
       "0    253\n",
       "1    247\n",
       "Name: count, dtype: int64"
      ]
     },
     "execution_count": 33,
     "metadata": {},
     "output_type": "execute_result"
    }
   ],
   "source": [
    "table[\"y\"].value_counts()"
   ]
  },
  {
   "cell_type": "markdown",
   "metadata": {},
   "source": [
    "Try Gradient Descent algorithm"
   ]
  },
  {
   "cell_type": "code",
   "execution_count": 34,
   "metadata": {},
   "outputs": [
    {
     "name": "stdout",
     "output_type": "stream",
     "text": [
      "algorithm did not converge under 100 iterations,so the calculated parameter is biased\n"
     ]
    },
    {
     "data": {
      "text/plain": [
       "array([-0.1248317 , -0.98031107,  1.93586459,  0.89773156,  0.7761705 ,\n",
       "       -1.07133784])"
      ]
     },
     "execution_count": 34,
     "metadata": {},
     "output_type": "execute_result"
    }
   ],
   "source": [
    "model=LogisticRegression(solver=\"gd\")\n",
    "model.fit(x,y)"
   ]
  },
  {
   "cell_type": "markdown",
   "metadata": {},
   "source": [
    "**Algorithm could not converge:**\n",
    "If you have this message, **NEVER** proceed to further steps as \n",
    "the estimated parameter is biased. \n",
    "\n",
    "Therefore, try other hyperparameters to aim  convergence.\n"
   ]
  },
  {
   "cell_type": "code",
   "execution_count": 35,
   "metadata": {},
   "outputs": [
    {
     "name": "stdout",
     "output_type": "stream",
     "text": [
      "algorithm did  converge under 300 iterations (at 79 iterations)\n"
     ]
    },
    {
     "data": {
      "text/plain": [
       "array([-0.14211795, -1.10847242,  2.18459166,  1.02655283,  0.87139786,\n",
       "       -1.20943036])"
      ]
     },
     "execution_count": 35,
     "metadata": {},
     "output_type": "execute_result"
    }
   ],
   "source": [
    "model1=LogisticRegression(solver=\"gd\",learning_rate=0.004,max_iteration=300)\n",
    "model1.fit(x,y)"
   ]
  },
  {
   "cell_type": "markdown",
   "metadata": {},
   "source": [
    "Try stochastic gradient descent with 68 as size of mini batch to see the performance"
   ]
  },
  {
   "cell_type": "code",
   "execution_count": 37,
   "metadata": {},
   "outputs": [
    {
     "name": "stdout",
     "output_type": "stream",
     "text": [
      "algorithm did  converge under 2400 iterations (at 1192 iterations)\n"
     ]
    },
    {
     "data": {
      "text/plain": [
       "array([-1.04660621,  2.05785965,  0.9594837 ,  0.82034862, -1.1345406 ])"
      ]
     },
     "execution_count": 37,
     "metadata": {},
     "output_type": "execute_result"
    }
   ],
   "source": [
    "model2=LogisticRegression(solver=\"sgd\",learning_rate=0.001,max_iteration=300,mini_batch_size=68,add_intercept=False)\n",
    "model2.fit(x,y)"
   ]
  },
  {
   "cell_type": "markdown",
   "metadata": {},
   "source": [
    "With new learning rate algorithm converged so we will use results of model1 to make predictions"
   ]
  },
  {
   "cell_type": "code",
   "execution_count": 38,
   "metadata": {},
   "outputs": [
    {
     "data": {
      "text/plain": [
       "array([0, 0, 1, 1, 0, 1, 1, 0, 1, 1])"
      ]
     },
     "execution_count": 38,
     "metadata": {},
     "output_type": "execute_result"
    }
   ],
   "source": [
    "model1.predict(x)[0:10]"
   ]
  },
  {
   "cell_type": "markdown",
   "metadata": {},
   "source": [
    "as well as get parameters significance"
   ]
  },
  {
   "cell_type": "code",
   "execution_count": 39,
   "metadata": {},
   "outputs": [
    {
     "name": "stdout",
     "output_type": "stream",
     "text": [
      "     params       std   t value  p value\n",
      "0 -0.142118  0.133005 -1.068517   0.2858\n",
      "1 -1.108472  0.159209 -6.962360   0.0000\n",
      "2  2.184592  0.222661  9.811274   0.0000\n",
      "3  1.026553  0.163791  6.267456   0.0000\n",
      "4  0.871398  0.144580  6.027095   0.0000\n",
      "5 -1.209430  0.173253 -6.980720   0.0000\n",
      "{'LL': -177.40450034974413, 'AIC_ll': 366.80900069948825, 'BIC_ll': 392.0966492900214}\n"
     ]
    }
   ],
   "source": [
    "print(model1.get_inference())\n",
    "print(model1.criteria)"
   ]
  },
  {
   "cell_type": "markdown",
   "metadata": {},
   "source": [
    "### **Evaluate model performance** (Logistic Regression)"
   ]
  },
  {
   "cell_type": "markdown",
   "metadata": {},
   "source": [
    "Evaluate model with accuracy and f1score "
   ]
  },
  {
   "cell_type": "code",
   "execution_count": 40,
   "metadata": {},
   "outputs": [
    {
     "name": "stdout",
     "output_type": "stream",
     "text": [
      "algorithm did  converge under 300 iterations (at 92 iterations)\n",
      "algorithm did  converge under 300 iterations (at 93 iterations)\n",
      "algorithm did  converge under 300 iterations (at 88 iterations)\n",
      "algorithm did  converge under 300 iterations (at 136 iterations)\n"
     ]
    },
    {
     "data": {
      "text/plain": [
       "[0.848, 0.824, 0.88, 0.792]"
      ]
     },
     "execution_count": 40,
     "metadata": {},
     "output_type": "execute_result"
    }
   ],
   "source": [
    "CrossValidation(Class_algorithm=model1,x=x,y=y,metrics_function=accuracy_score,nb_k_fold=4)"
   ]
  },
  {
   "cell_type": "code",
   "execution_count": 41,
   "metadata": {},
   "outputs": [
    {
     "name": "stdout",
     "output_type": "stream",
     "text": [
      "algorithm did  converge under 300 iterations (at 93 iterations)\n",
      "algorithm did  converge under 300 iterations (at 92 iterations)\n",
      "algorithm did  converge under 300 iterations (at 107 iterations)\n",
      "algorithm did  converge under 300 iterations (at 117 iterations)\n"
     ]
    },
    {
     "data": {
      "text/plain": [
       "[0.8489208633093526, 0.8214285714285714, 0.84375, 0.7857142857142857]"
      ]
     },
     "execution_count": 41,
     "metadata": {},
     "output_type": "execute_result"
    }
   ],
   "source": [
    "CrossValidation(Class_algorithm=model1,x=x,y=y,metrics_function=f1_score,nb_k_fold=4)"
   ]
  },
  {
   "cell_type": "markdown",
   "metadata": {},
   "source": [
    "### **Automatic selection of variables** (Logistic Regression)"
   ]
  },
  {
   "cell_type": "code",
   "execution_count": 43,
   "metadata": {},
   "outputs": [
    {
     "data": {
      "text/plain": [
       "array([1, 4, 0, 2, 3])"
      ]
     },
     "execution_count": 43,
     "metadata": {},
     "output_type": "execute_result"
    }
   ],
   "source": [
    "index_cols=model1.autoselection(\"forward\",\"BIC_ll\",print_message=False)\n",
    "index_cols"
   ]
  },
  {
   "cell_type": "code",
   "execution_count": 44,
   "metadata": {},
   "outputs": [
    {
     "data": {
      "text/plain": [
       "array([0, 1, 2, 3, 4])"
      ]
     },
     "execution_count": 44,
     "metadata": {},
     "output_type": "execute_result"
    }
   ],
   "source": [
    "index_cols=model1.autoselection(\"backward\",\"BIC_ll\",print_message=False)\n",
    "index_cols"
   ]
  },
  {
   "cell_type": "code",
   "execution_count": 45,
   "metadata": {},
   "outputs": [
    {
     "data": {
      "text/plain": [
       "array([0, 1, 4, 2, 3])"
      ]
     },
     "execution_count": 45,
     "metadata": {},
     "output_type": "execute_result"
    }
   ],
   "source": [
    "index_cols=model1.autoselection(\"stepwise\",\"BIC_ll\",print_message=False)\n",
    "index_cols"
   ]
  },
  {
   "cell_type": "markdown",
   "metadata": {},
   "source": [
    "As you see in this case we get 5 variables which are 5 true variables , but this is also a generated data from excel file with 5 variables\n",
    "\n",
    "We can see how this selection performs on another generation that will contain 5 true variables and 45 false variables"
   ]
  },
  {
   "cell_type": "markdown",
   "metadata": {},
   "source": [
    "### **Generate 50 variables and autoselection**"
   ]
  },
  {
   "cell_type": "code",
   "execution_count": 52,
   "metadata": {},
   "outputs": [],
   "source": [
    "x,y=dg.gen(1,\"logistic\")"
   ]
  },
  {
   "cell_type": "code",
   "execution_count": 53,
   "metadata": {},
   "outputs": [
    {
     "name": "stdout",
     "output_type": "stream",
     "text": [
      "algorithm did  converge under 100 iterations (at 8 iterations)\n"
     ]
    },
    {
     "data": {
      "text/plain": [
       "array([-1.56837360e-01,  3.67883363e+00,  1.62341681e+00,  5.93719636e-01,\n",
       "       -3.95606267e-01, -5.11437535e+00,  1.90318974e-01,  4.69442650e-01,\n",
       "       -4.45125240e-01, -5.27976669e-01,  9.18777110e-03, -1.80486442e-01,\n",
       "        2.37919462e-01,  3.55073682e-01,  3.66236488e-02, -6.38740704e-01,\n",
       "       -6.15930693e-02, -4.76787299e-01,  3.38033983e-01, -2.19116579e-02,\n",
       "       -2.84375692e-01,  2.88808199e-01,  9.87652589e-02,  2.06832868e-01,\n",
       "       -1.16128640e-01, -1.52364107e-01, -1.16953540e-01, -2.93071059e-01,\n",
       "        9.38366223e-02,  3.52271059e-01, -2.63197499e-02,  2.72861314e-01,\n",
       "        1.89098584e-01,  2.35039450e-03,  3.11720949e-01,  2.02489918e-01,\n",
       "        1.04633637e-01,  1.44181368e-01, -2.84392912e-01, -1.59237114e-01,\n",
       "        1.21269223e-01,  2.84104618e-01, -4.97606259e-01, -5.07867942e-01,\n",
       "        2.01110001e-01,  1.62674253e-01, -7.04591994e-02, -2.49935763e-01,\n",
       "       -2.75760466e-01,  6.79887743e-02, -3.13260493e-01])"
      ]
     },
     "execution_count": 53,
     "metadata": {},
     "output_type": "execute_result"
    }
   ],
   "source": [
    "model_new=LogisticRegression(solver=\"nr\")\n",
    "model_new.fit(x,y)"
   ]
  },
  {
   "cell_type": "code",
   "execution_count": 54,
   "metadata": {},
   "outputs": [
    {
     "data": {
      "text/plain": [
       "array([4, 0, 1, 3, 2])"
      ]
     },
     "execution_count": 54,
     "metadata": {},
     "output_type": "execute_result"
    }
   ],
   "source": [
    "model_new.autoselection(\"forward\",\"BIC_ll\",print_message=False)"
   ]
  },
  {
   "cell_type": "code",
   "execution_count": 55,
   "metadata": {},
   "outputs": [
    {
     "data": {
      "text/plain": [
       "array([3, 4, 0, 1, 2])"
      ]
     },
     "execution_count": 55,
     "metadata": {},
     "output_type": "execute_result"
    }
   ],
   "source": [
    "model_new.autoselection(\"stepwise\",\"BIC_ll\",print_message=False)"
   ]
  },
  {
   "cell_type": "code",
   "execution_count": 14,
   "metadata": {},
   "outputs": [
    {
     "data": {
      "text/plain": [
       "array([0, 1, 2, 3, 4])"
      ]
     },
     "execution_count": 14,
     "metadata": {},
     "output_type": "execute_result"
    }
   ],
   "source": [
    "model_new.autoselection(\"backward\",\"BIC_ll\",print_message=False)"
   ]
  },
  {
   "cell_type": "markdown",
   "metadata": {},
   "source": [
    "Despite having 50 variables in the dataset, the model successfully identified only 5 true variables. All 3 models gave same results which is a normal behaviour."
   ]
  },
  {
   "cell_type": "markdown",
   "metadata": {},
   "source": [
    "**Let's now generalise this approach for multiclass classification using OVR algoritmn and then softmax regression**"
   ]
  },
  {
   "cell_type": "markdown",
   "metadata": {},
   "source": []
  },
  {
   "cell_type": "markdown",
   "metadata": {},
   "source": [
    "## **Logistic Regression OVR**"
   ]
  },
  {
   "cell_type": "markdown",
   "metadata": {},
   "source": [
    "### **Fit and predict model**"
   ]
  },
  {
   "cell_type": "markdown",
   "metadata": {},
   "source": [
    "Load data"
   ]
  },
  {
   "cell_type": "code",
   "execution_count": 56,
   "metadata": {},
   "outputs": [],
   "source": [
    "table=pd.read_csv(\"data/exampleLRMulti.csv\")"
   ]
  },
  {
   "cell_type": "markdown",
   "metadata": {},
   "source": [
    "Get rid of unnamed columns"
   ]
  },
  {
   "cell_type": "code",
   "execution_count": 57,
   "metadata": {},
   "outputs": [],
   "source": [
    "table.drop(table.columns[table.columns.str.contains('unnamed',case = False)],axis = 1, inplace = True)"
   ]
  },
  {
   "cell_type": "markdown",
   "metadata": {},
   "source": [
    "One more time classes are distributed equally, so we can estimate model performance with accuracy score"
   ]
  },
  {
   "cell_type": "code",
   "execution_count": 58,
   "metadata": {},
   "outputs": [
    {
     "data": {
      "text/plain": [
       "column_Y\n",
       "1    336\n",
       "0    333\n",
       "2    331\n",
       "Name: count, dtype: int64"
      ]
     },
     "execution_count": 58,
     "metadata": {},
     "output_type": "execute_result"
    }
   ],
   "source": [
    "table[\"column_Y\"].value_counts()"
   ]
  },
  {
   "cell_type": "code",
   "execution_count": 59,
   "metadata": {},
   "outputs": [],
   "source": [
    "x,y=np.array(table.drop([\"column_Y\"],axis=1)),np.array(table[\"column_Y\"])"
   ]
  },
  {
   "cell_type": "markdown",
   "metadata": {},
   "source": [
    "Estimate Multiclass Logistic Regression with One vs Rest algorithm and Newton Raphson optimisation "
   ]
  },
  {
   "cell_type": "markdown",
   "metadata": {},
   "source": [
    "Since it's an OVR algorithm, it will run model 3 times with 3 columns of estimated parameter"
   ]
  },
  {
   "cell_type": "code",
   "execution_count": 91,
   "metadata": {},
   "outputs": [
    {
     "name": "stdout",
     "output_type": "stream",
     "text": [
      "algorithm did  converge under 100 iterations (at 5 iterations)\n",
      "algorithm did  converge under 100 iterations (at 5 iterations)\n",
      "algorithm did  converge under 100 iterations (at 5 iterations)\n"
     ]
    },
    {
     "data": {
      "text/plain": [
       "array([[-1.01498187, -1.45620846, -0.78718645],\n",
       "       [ 0.34446018,  0.56751748, -0.79115877],\n",
       "       [ 0.22977187, -0.65556071,  0.56300868],\n",
       "       [ 0.05302252, -0.03242775, -0.03517929],\n",
       "       [ 0.06803143,  0.15324563, -0.1736295 ],\n",
       "       [-0.44905806,  0.79972167, -0.42289584],\n",
       "       [ 0.02949896, -0.09727438,  0.07434896],\n",
       "       [-0.64703364,  0.23914131,  0.39520493],\n",
       "       [-0.03647586,  0.15863365, -0.09606587],\n",
       "       [ 0.6808661 , -0.45149573, -0.23001672],\n",
       "       [-0.01179362, -0.05067621,  0.03836354]])"
      ]
     },
     "execution_count": 91,
     "metadata": {},
     "output_type": "execute_result"
    }
   ],
   "source": [
    "modelOVR=LogisticRegression(solver=\"nr\",multiclass=\"ovr\")\n",
    "modelOVR.fit(x,y)"
   ]
  },
  {
   "cell_type": "markdown",
   "metadata": {},
   "source": [
    "We can also predict. Predictions are made always in the ascending order: \n",
    "\n",
    "    -first column will be 0 class\n",
    "    -second column will be 1 class\n",
    "    -third column will be 2 class\n"
   ]
  },
  {
   "cell_type": "code",
   "execution_count": 92,
   "metadata": {},
   "outputs": [
    {
     "data": {
      "text/plain": [
       "array([[0., 1., 0.],\n",
       "       [0., 1., 0.],\n",
       "       [0., 0., 1.],\n",
       "       ...,\n",
       "       [0., 0., 1.],\n",
       "       [0., 1., 0.],\n",
       "       [0., 0., 1.]])"
      ]
     },
     "execution_count": 92,
     "metadata": {},
     "output_type": "execute_result"
    }
   ],
   "source": [
    "predictionsOVR=modelOVR.predict(x)\n",
    "predictionsOVR "
   ]
  },
  {
   "cell_type": "markdown",
   "metadata": {},
   "source": [
    "We will compare these predictions to true one hot encoded labels"
   ]
  },
  {
   "cell_type": "code",
   "execution_count": 93,
   "metadata": {},
   "outputs": [
    {
     "data": {
      "text/plain": [
       "array([[0, 1, 0],\n",
       "       [1, 0, 0],\n",
       "       [0, 0, 1],\n",
       "       ...,\n",
       "       [0, 0, 1],\n",
       "       [1, 0, 0],\n",
       "       [0, 0, 1]])"
      ]
     },
     "execution_count": 93,
     "metadata": {},
     "output_type": "execute_result"
    }
   ],
   "source": [
    "modelOVR.y"
   ]
  },
  {
   "cell_type": "markdown",
   "metadata": {},
   "source": [
    "Of course, we can always get probability (for OVR it is not normalised, but for predicted values it is normalised!!)"
   ]
  },
  {
   "cell_type": "code",
   "execution_count": 97,
   "metadata": {},
   "outputs": [
    {
     "data": {
      "text/plain": [
       "array([[0.14660444, 0.94592762, 0.01074276],\n",
       "       [0.26867955, 0.36961135, 0.19349834],\n",
       "       [0.0519826 , 0.32131164, 0.59426132],\n",
       "       ...,\n",
       "       [0.02941952, 0.15974979, 0.77393711],\n",
       "       [0.26880729, 0.33355668, 0.22603021],\n",
       "       [0.03407864, 0.33402281, 0.64490065]])"
      ]
     },
     "execution_count": 97,
     "metadata": {},
     "output_type": "execute_result"
    }
   ],
   "source": [
    "modelOVR.proba"
   ]
  },
  {
   "cell_type": "markdown",
   "metadata": {},
   "source": [
    "get information criteria"
   ]
  },
  {
   "cell_type": "code",
   "execution_count": 95,
   "metadata": {},
   "outputs": [
    {
     "data": {
      "text/plain": [
       "{'LL': -738.4500205744612,\n",
       " 'AIC_ll': 1498.9000411489224,\n",
       " 'BIC_ll': 1552.885349217726}"
      ]
     },
     "execution_count": 95,
     "metadata": {},
     "output_type": "execute_result"
    }
   ],
   "source": [
    "modelOVR.get_inference(only_IC=True)"
   ]
  },
  {
   "cell_type": "markdown",
   "metadata": {},
   "source": [
    "get more inference as significance tests etc"
   ]
  },
  {
   "cell_type": "code",
   "execution_count": 67,
   "metadata": {},
   "outputs": [
    {
     "ename": "ValueError",
     "evalue": "not done yet, incoming",
     "output_type": "error",
     "traceback": [
      "\u001b[1;31m---------------------------------------------------------------------------\u001b[0m",
      "\u001b[1;31mValueError\u001b[0m                                Traceback (most recent call last)",
      "Cell \u001b[1;32mIn[67], line 1\u001b[0m\n\u001b[1;32m----> 1\u001b[0m \u001b[43mmodelOVR\u001b[49m\u001b[38;5;241;43m.\u001b[39;49m\u001b[43mget_inference\u001b[49m\u001b[43m(\u001b[49m\u001b[43monly_IC\u001b[49m\u001b[38;5;241;43m=\u001b[39;49m\u001b[38;5;28;43;01mFalse\u001b[39;49;00m\u001b[43m)\u001b[49m\n",
      "File \u001b[1;32mc:\\Users\\arthu\\Desktop\\ml_param_models\\_logistic.py:342\u001b[0m, in \u001b[0;36mLogisticRegression.get_inference\u001b[1;34m(self, only_IC, param_if_not_kept, y_if_not_kept, x_if_not_kept)\u001b[0m\n\u001b[0;32m    340\u001b[0m     \u001b[38;5;28;01mreturn\u001b[39;00m criteria\n\u001b[0;32m    341\u001b[0m \u001b[38;5;28;01mif\u001b[39;00m \u001b[38;5;28mself\u001b[39m\u001b[38;5;241m.\u001b[39mmulticlass \u001b[38;5;129;01min\u001b[39;00m [\u001b[38;5;124m\"\u001b[39m\u001b[38;5;124msoftmax\u001b[39m\u001b[38;5;124m\"\u001b[39m,\u001b[38;5;124m\"\u001b[39m\u001b[38;5;124movr\u001b[39m\u001b[38;5;124m\"\u001b[39m]:\n\u001b[1;32m--> 342\u001b[0m     \u001b[38;5;28;01mraise\u001b[39;00m \u001b[38;5;167;01mValueError\u001b[39;00m(\u001b[38;5;124m\"\u001b[39m\u001b[38;5;124mnot done yet, incoming\u001b[39m\u001b[38;5;124m\"\u001b[39m)\n\u001b[0;32m    343\u001b[0m \u001b[38;5;66;03m#another part that does not need to have introduced to arguments parameters\u001b[39;00m\n\u001b[0;32m    345\u001b[0m w \u001b[38;5;241m=\u001b[39m \u001b[38;5;28mself\u001b[39m\u001b[38;5;241m.\u001b[39mproba \u001b[38;5;241m*\u001b[39m (\u001b[38;5;241m1\u001b[39m \u001b[38;5;241m-\u001b[39m \u001b[38;5;28mself\u001b[39m\u001b[38;5;241m.\u001b[39mproba)\n",
      "\u001b[1;31mValueError\u001b[0m: not done yet, incoming"
     ]
    }
   ],
   "source": [
    "modelOVR.get_inference(only_IC=False)"
   ]
  },
  {
   "cell_type": "markdown",
   "metadata": {},
   "source": [
    "it is ok as this part is not developed yet, incoming!"
   ]
  },
  {
   "cell_type": "markdown",
   "metadata": {},
   "source": [
    "### **Evaluate model performance** (Log OVR)"
   ]
  },
  {
   "cell_type": "markdown",
   "metadata": {},
   "source": [
    "We can evaluate accuracy"
   ]
  },
  {
   "cell_type": "code",
   "execution_count": 76,
   "metadata": {},
   "outputs": [
    {
     "data": {
      "text/plain": [
       "0.695"
      ]
     },
     "execution_count": 76,
     "metadata": {},
     "output_type": "execute_result"
    }
   ],
   "source": [
    "accuracy_score(predictionsOVR, modelOVR.y)"
   ]
  },
  {
   "cell_type": "markdown",
   "metadata": {},
   "source": [
    "But we want more intelligent evaluation, so we use cross validation "
   ]
  },
  {
   "cell_type": "code",
   "execution_count": 80,
   "metadata": {},
   "outputs": [
    {
     "name": "stdout",
     "output_type": "stream",
     "text": [
      "algorithm did  converge under 100 iterations (at 5 iterations)\n",
      "algorithm did  converge under 100 iterations (at 5 iterations)\n",
      "algorithm did  converge under 100 iterations (at 5 iterations)\n",
      "algorithm did  converge under 100 iterations (at 5 iterations)\n",
      "algorithm did  converge under 100 iterations (at 5 iterations)\n",
      "algorithm did  converge under 100 iterations (at 5 iterations)\n",
      "algorithm did  converge under 100 iterations (at 5 iterations)\n",
      "algorithm did  converge under 100 iterations (at 5 iterations)\n",
      "algorithm did  converge under 100 iterations (at 5 iterations)\n",
      "algorithm did  converge under 100 iterations (at 5 iterations)\n",
      "algorithm did  converge under 100 iterations (at 5 iterations)\n",
      "algorithm did  converge under 100 iterations (at 5 iterations)\n"
     ]
    }
   ],
   "source": [
    "acc_list=CrossValidation(Class_algorithm=modelOVR,x=x,y=modelOVR.y,metrics_function=accuracy_score,nb_k_fold=4)"
   ]
  },
  {
   "cell_type": "markdown",
   "metadata": {},
   "source": [
    "By averaging we get more \"robust\" accuracy "
   ]
  },
  {
   "cell_type": "code",
   "execution_count": 81,
   "metadata": {},
   "outputs": [
    {
     "name": "stdout",
     "output_type": "stream",
     "text": [
      "[0.72, 0.66, 0.684, 0.648]\n"
     ]
    },
    {
     "data": {
      "text/plain": [
       "0.678"
      ]
     },
     "execution_count": 81,
     "metadata": {},
     "output_type": "execute_result"
    }
   ],
   "source": [
    "print(acc_list)\n",
    "np.mean(acc_list)"
   ]
  },
  {
   "cell_type": "markdown",
   "metadata": {},
   "source": [
    "### **Automatic selection of variables** (Log OVR)"
   ]
  },
  {
   "cell_type": "markdown",
   "metadata": {},
   "source": [
    "We can also do variable selection as we did before, but in this case we will use generalised positive cross entropy as Log Likelihood "
   ]
  },
  {
   "cell_type": "code",
   "execution_count": 98,
   "metadata": {},
   "outputs": [
    {
     "data": {
      "text/plain": [
       "array([4, 8, 0, 1, 6])"
      ]
     },
     "execution_count": 98,
     "metadata": {},
     "output_type": "execute_result"
    }
   ],
   "source": [
    "modelOVR.autoselection(\"forward\",\"BIC_ll\",print_message=False)\n"
   ]
  },
  {
   "cell_type": "code",
   "execution_count": 99,
   "metadata": {},
   "outputs": [
    {
     "data": {
      "text/plain": [
       "array([0, 1, 4, 6, 8])"
      ]
     },
     "execution_count": 99,
     "metadata": {},
     "output_type": "execute_result"
    }
   ],
   "source": [
    "modelOVR.autoselection(\"backward\",\"BIC_ll\",print_message=False)\n"
   ]
  },
  {
   "cell_type": "code",
   "execution_count": 100,
   "metadata": {},
   "outputs": [
    {
     "data": {
      "text/plain": [
       "array([6, 1, 8, 0, 4])"
      ]
     },
     "execution_count": 100,
     "metadata": {},
     "output_type": "execute_result"
    }
   ],
   "source": [
    "col_index=modelOVR.autoselection(\"stepwise\",\"BIC_ll\",print_message=False)\n",
    "col_index"
   ]
  },
  {
   "cell_type": "markdown",
   "metadata": {},
   "source": [
    "## **Logistic Regression Softmax**"
   ]
  },
  {
   "cell_type": "markdown",
   "metadata": {},
   "source": [
    "**Now, let's see another way of solving multicase without running P independent classifiers-> logistic softmax**"
   ]
  },
  {
   "cell_type": "markdown",
   "metadata": {},
   "source": [
    "### **Fit and predict model** (Log SFTMX)"
   ]
  },
  {
   "cell_type": "code",
   "execution_count": 82,
   "metadata": {},
   "outputs": [
    {
     "name": "stdout",
     "output_type": "stream",
     "text": [
      "algorithm did  converge under 100 iterations (at 50 iterations)\n"
     ]
    },
    {
     "data": {
      "text/plain": [
       "array([[ 0.04194506, -0.27091767,  0.22897262],\n",
       "       [ 0.23740402,  0.34859258, -0.58599659],\n",
       "       [ 0.08908508, -0.4494452 ,  0.36036012],\n",
       "       [ 0.0417117 , -0.02254157, -0.01917013],\n",
       "       [ 0.03704339,  0.08616513, -0.12320852],\n",
       "       [-0.27315999,  0.56539992, -0.29223993],\n",
       "       [ 0.01838198, -0.07586092,  0.05747895],\n",
       "       [-0.47306334,  0.21607495,  0.2569884 ],\n",
       "       [-0.03294754,  0.10874983, -0.07580229],\n",
       "       [ 0.48652451, -0.33256412, -0.15396038],\n",
       "       [-0.00460555, -0.02954451,  0.03415006]])"
      ]
     },
     "execution_count": 82,
     "metadata": {},
     "output_type": "execute_result"
    }
   ],
   "source": [
    "modelSFT=LogisticRegression(solver=\"gd\",multiclass=\"softmax\")#dont use nr for the moment\n",
    "modelSFT.fit(x,y)"
   ]
  },
  {
   "cell_type": "markdown",
   "metadata": {},
   "source": [
    "We can compare them to modelOVR parameters"
   ]
  },
  {
   "cell_type": "code",
   "execution_count": 83,
   "metadata": {},
   "outputs": [
    {
     "data": {
      "text/plain": [
       "array([[-1.00534408, -1.43558182, -0.78699103],\n",
       "       [ 0.33985494,  0.55888912, -0.78313487],\n",
       "       [-0.45253769,  0.79424587, -0.42085745],\n",
       "       [-0.64951794,  0.23943091,  0.39746635],\n",
       "       [ 0.22901814, -0.65214302,  0.55932286],\n",
       "       [ 0.68185011, -0.44564961, -0.23015263]])"
      ]
     },
     "execution_count": 83,
     "metadata": {},
     "output_type": "execute_result"
    }
   ],
   "source": [
    "modelOVR.params"
   ]
  },
  {
   "cell_type": "markdown",
   "metadata": {},
   "source": [
    "also predict"
   ]
  },
  {
   "cell_type": "code",
   "execution_count": 84,
   "metadata": {},
   "outputs": [
    {
     "data": {
      "text/plain": [
       "array([[0., 1., 0.],\n",
       "       [0., 1., 0.],\n",
       "       [0., 0., 1.],\n",
       "       ...,\n",
       "       [0., 0., 1.],\n",
       "       [0., 1., 0.],\n",
       "       [0., 0., 1.]])"
      ]
     },
     "execution_count": 84,
     "metadata": {},
     "output_type": "execute_result"
    }
   ],
   "source": [
    "modelSFT.predict(x)"
   ]
  },
  {
   "cell_type": "markdown",
   "metadata": {},
   "source": [
    "### **Automatic selection of variables** (Log SFTMX)"
   ]
  },
  {
   "cell_type": "code",
   "execution_count": 87,
   "metadata": {},
   "outputs": [
    {
     "data": {
      "text/plain": [
       "array([4, 0, 1, 8, 6])"
      ]
     },
     "execution_count": 87,
     "metadata": {},
     "output_type": "execute_result"
    }
   ],
   "source": [
    "modelSFT.autoselection(\"forward\",\"BIC_ll\",print_message=False)"
   ]
  },
  {
   "cell_type": "code",
   "execution_count": 89,
   "metadata": {},
   "outputs": [
    {
     "data": {
      "text/plain": [
       "array([8, 0, 1, 4, 6])"
      ]
     },
     "execution_count": 89,
     "metadata": {},
     "output_type": "execute_result"
    }
   ],
   "source": [
    "modelSFT.autoselection(\"stepwise\",\"BIC_ll\",print_message=False)"
   ]
  },
  {
   "cell_type": "code",
   "execution_count": 90,
   "metadata": {},
   "outputs": [
    {
     "data": {
      "text/plain": [
       "array([0, 1, 4, 6, 8])"
      ]
     },
     "execution_count": 90,
     "metadata": {},
     "output_type": "execute_result"
    }
   ],
   "source": [
    "modelSFT.autoselection(\"backward\",\"BIC_ll\",print_message=False)"
   ]
  },
  {
   "cell_type": "markdown",
   "metadata": {},
   "source": [
    "### **Evaluate model performance** (Log SFTMX)"
   ]
  },
  {
   "cell_type": "code",
   "execution_count": 86,
   "metadata": {},
   "outputs": [
    {
     "name": "stdout",
     "output_type": "stream",
     "text": [
      "algorithm did  converge under 100 iterations (at 65 iterations)\n",
      "algorithm did  converge under 100 iterations (at 59 iterations)\n",
      "algorithm did  converge under 100 iterations (at 62 iterations)\n",
      "algorithm did  converge under 100 iterations (at 62 iterations)\n"
     ]
    },
    {
     "data": {
      "text/plain": [
       "0.679"
      ]
     },
     "execution_count": 86,
     "metadata": {},
     "output_type": "execute_result"
    }
   ],
   "source": [
    "meansftmx=CrossValidation(Class_algorithm=modelSFT,x=x,y=modelSFT.y,metrics_function=accuracy_score,nb_k_fold=4)\n",
    "np.mean(meansftmx)"
   ]
  },
  {
   "cell_type": "markdown",
   "metadata": {},
   "source": [
    "Further steps:\n",
    "\n",
    "\n",
    " -introduce Newton Raphson for softmax regression\n",
    "\n",
    " -add logistic softmax deep dive to K vs K-1 (with reference class) columns of B estimate\n",
    "\n",
    " \n",
    "\n",
    " -explore further inference statistics ( odds ratio, inference for multinomial logistic regressions, average marginal effects)\n",
    "\n",
    " -do regularisation ( lasso, ridge, elasticnet)\n",
    " \n",
    " -do real project using all these developed algorithms\n",
    "\n"
   ]
  },
  {
   "cell_type": "code",
   "execution_count": 118,
   "metadata": {},
   "outputs": [
    {
     "ename": "ValueError",
     "evalue": "not done yet,incoming",
     "output_type": "error",
     "traceback": [
      "\u001b[1;31m---------------------------------------------------------------------------\u001b[0m",
      "\u001b[1;31mValueError\u001b[0m                                Traceback (most recent call last)",
      "Cell \u001b[1;32mIn[118], line 2\u001b[0m\n\u001b[0;32m      1\u001b[0m modelSFT\u001b[38;5;241m=\u001b[39mLogisticRegression(solver\u001b[38;5;241m=\u001b[39m\u001b[38;5;124m\"\u001b[39m\u001b[38;5;124mnr\u001b[39m\u001b[38;5;124m\"\u001b[39m,multiclass\u001b[38;5;241m=\u001b[39m\u001b[38;5;124m\"\u001b[39m\u001b[38;5;124msoftmax\u001b[39m\u001b[38;5;124m\"\u001b[39m)\u001b[38;5;66;03m#dont use nr for the moment\u001b[39;00m\n\u001b[1;32m----> 2\u001b[0m \u001b[43mmodelSFT\u001b[49m\u001b[38;5;241;43m.\u001b[39;49m\u001b[43mfit\u001b[49m\u001b[43m(\u001b[49m\u001b[43mx\u001b[49m\u001b[43m,\u001b[49m\u001b[43my\u001b[49m\u001b[43m)\u001b[49m\u001b[38;5;66;03m#or d\u001b[39;00m\n",
      "File \u001b[1;32mc:\\Users\\arthu\\Desktop\\ml_param_models\\_logistic.py:125\u001b[0m, in \u001b[0;36mLogisticRegression.fit\u001b[1;34m(self, x, y)\u001b[0m\n\u001b[0;32m    122\u001b[0m     result_param \u001b[38;5;241m=\u001b[39m \u001b[38;5;28msuper\u001b[39m()\u001b[38;5;241m.\u001b[39mfit_base(x, y, \u001b[38;5;124m\"\u001b[39m\u001b[38;5;124mlogistic\u001b[39m\u001b[38;5;124m\"\u001b[39m)\n\u001b[0;32m    124\u001b[0m \u001b[38;5;28;01melif\u001b[39;00m \u001b[38;5;28mself\u001b[39m\u001b[38;5;241m.\u001b[39mmulticlass \u001b[38;5;241m==\u001b[39m \u001b[38;5;124m\"\u001b[39m\u001b[38;5;124msoftmax\u001b[39m\u001b[38;5;124m\"\u001b[39m:\n\u001b[1;32m--> 125\u001b[0m     result_param \u001b[38;5;241m=\u001b[39m \u001b[38;5;28;43msuper\u001b[39;49m\u001b[43m(\u001b[49m\u001b[43m)\u001b[49m\u001b[38;5;241;43m.\u001b[39;49m\u001b[43mfit_base\u001b[49m\u001b[43m(\u001b[49m\u001b[43mx\u001b[49m\u001b[43m,\u001b[49m\u001b[43m \u001b[49m\u001b[43my\u001b[49m\u001b[43m,\u001b[49m\u001b[43m \u001b[49m\u001b[38;5;124;43m\"\u001b[39;49m\u001b[38;5;124;43mlogistic softmax\u001b[39;49m\u001b[38;5;124;43m\"\u001b[39;49m\u001b[43m)\u001b[49m\n\u001b[0;32m    126\u001b[0m \u001b[38;5;28;01melif\u001b[39;00m \u001b[38;5;28mself\u001b[39m\u001b[38;5;241m.\u001b[39mmulticlass \u001b[38;5;241m==\u001b[39m \u001b[38;5;124m\"\u001b[39m\u001b[38;5;124movr\u001b[39m\u001b[38;5;124m\"\u001b[39m:\n\u001b[0;32m    127\u001b[0m     ft \u001b[38;5;241m=\u001b[39m \u001b[38;5;28;01mTrue\u001b[39;00m\n",
      "File \u001b[1;32mc:\\Users\\arthu\\Desktop\\ml_param_models\\_base.py:426\u001b[0m, in \u001b[0;36mBaseEstimator.fit_base\u001b[1;34m(self, x, y, methodic)\u001b[0m\n\u001b[0;32m    415\u001b[0m x \u001b[38;5;241m=\u001b[39m \u001b[38;5;28mself\u001b[39m\u001b[38;5;241m.\u001b[39madd_intercept_f(x)\n\u001b[0;32m    416\u001b[0m alg \u001b[38;5;241m=\u001b[39m GradientDescent(\n\u001b[0;32m    417\u001b[0m     methodic,\n\u001b[0;32m    418\u001b[0m     \u001b[38;5;28mself\u001b[39m\u001b[38;5;241m.\u001b[39msolver,\n\u001b[1;32m   (...)\u001b[0m\n\u001b[0;32m    424\u001b[0m     y,\n\u001b[0;32m    425\u001b[0m )\n\u001b[1;32m--> 426\u001b[0m result_param \u001b[38;5;241m=\u001b[39m \u001b[43malg\u001b[49m\u001b[38;5;241;43m.\u001b[39;49m\u001b[43moptimiser_algorithm_classic\u001b[49m\u001b[43m(\u001b[49m\u001b[43m)\u001b[49m\n\u001b[0;32m    427\u001b[0m \u001b[38;5;28;01mif\u001b[39;00m \u001b[38;5;28mself\u001b[39m\u001b[38;5;241m.\u001b[39mneed_to_store_results:\n\u001b[0;32m    428\u001b[0m     \u001b[38;5;28mself\u001b[39m\u001b[38;5;241m.\u001b[39mparams \u001b[38;5;241m=\u001b[39m result_param\n",
      "File \u001b[1;32mc:\\Users\\arthu\\Desktop\\ml_param_models\\_base.py:266\u001b[0m, in \u001b[0;36mGradientDescent.optimiser_algorithm_classic\u001b[1;34m(self)\u001b[0m\n\u001b[0;32m    264\u001b[0m local_max_iter \u001b[38;5;241m=\u001b[39m \u001b[38;5;28mself\u001b[39m\u001b[38;5;241m.\u001b[39mmax_iteration\n\u001b[0;32m    265\u001b[0m \u001b[38;5;28;01mfor\u001b[39;00m i \u001b[38;5;129;01min\u001b[39;00m \u001b[38;5;28mrange\u001b[39m(\u001b[38;5;241m1\u001b[39m, \u001b[38;5;28mself\u001b[39m\u001b[38;5;241m.\u001b[39mmax_iteration \u001b[38;5;241m+\u001b[39m \u001b[38;5;241m1\u001b[39m):\n\u001b[1;32m--> 266\u001b[0m     B \u001b[38;5;241m=\u001b[39m \u001b[38;5;28;43mself\u001b[39;49m\u001b[38;5;241;43m.\u001b[39;49m\u001b[43moptimiser_update_parameter\u001b[49m\u001b[43m(\u001b[49m\u001b[43mB\u001b[49m\u001b[43m,\u001b[49m\u001b[43m \u001b[49m\u001b[38;5;28;43mself\u001b[39;49m\u001b[38;5;241;43m.\u001b[39;49m\u001b[43mx\u001b[49m\u001b[43m,\u001b[49m\u001b[43m \u001b[49m\u001b[38;5;28;43mself\u001b[39;49m\u001b[38;5;241;43m.\u001b[39;49m\u001b[43my\u001b[49m\u001b[43m)\u001b[49m\n\u001b[0;32m    267\u001b[0m     \u001b[38;5;28mself\u001b[39m\u001b[38;5;241m.\u001b[39moptimiser_verify_condition(i, local_max_iter)\n\u001b[0;32m    268\u001b[0m     \u001b[38;5;28;01mif\u001b[39;00m \u001b[38;5;28mself\u001b[39m\u001b[38;5;241m.\u001b[39mstop_loop:\n",
      "File \u001b[1;32mc:\\Users\\arthu\\Desktop\\ml_param_models\\_base.py:151\u001b[0m, in \u001b[0;36mGradientDescent.optimiser_update_parameter\u001b[1;34m(self, B, x, y)\u001b[0m\n\u001b[0;32m    148\u001b[0m     gradient \u001b[38;5;241m=\u001b[39m x\u001b[38;5;241m.\u001b[39mT \u001b[38;5;241m@\u001b[39m (y \u001b[38;5;241m-\u001b[39m prediction)\n\u001b[0;32m    150\u001b[0m \u001b[38;5;28;01mif\u001b[39;00m \u001b[38;5;28mself\u001b[39m\u001b[38;5;241m.\u001b[39mnewton_raphson \u001b[38;5;129;01mand\u001b[39;00m \u001b[38;5;28mself\u001b[39m\u001b[38;5;241m.\u001b[39mregression \u001b[38;5;241m==\u001b[39m \u001b[38;5;124m\"\u001b[39m\u001b[38;5;124mlogistic softmax\u001b[39m\u001b[38;5;124m\"\u001b[39m:\n\u001b[1;32m--> 151\u001b[0m     \u001b[38;5;28;01mraise\u001b[39;00m \u001b[38;5;167;01mValueError\u001b[39;00m(\u001b[38;5;124m\"\u001b[39m\u001b[38;5;124mnot done yet,incoming\u001b[39m\u001b[38;5;124m\"\u001b[39m)\n\u001b[0;32m    153\u001b[0m \u001b[38;5;66;03m# If learn_rate is an scalar (GD)\u001b[39;00m\n\u001b[0;32m    154\u001b[0m \u001b[38;5;28;01mif\u001b[39;00m \u001b[38;5;129;01mnot\u001b[39;00m \u001b[38;5;28mself\u001b[39m\u001b[38;5;241m.\u001b[39mnewton_raphson:\n",
      "\u001b[1;31mValueError\u001b[0m: not done yet,incoming"
     ]
    }
   ],
   "source": [
    "modelSFT=LogisticRegression(solver=\"nr\",multiclass=\"softmax\")#dont use nr for the moment\n",
    "modelSFT.fit(x,y)"
   ]
  },
  {
   "cell_type": "markdown",
   "metadata": {},
   "source": [
    "this error is normal as it is not developed yet"
   ]
  }
 ],
 "metadata": {
  "kernelspec": {
   "display_name": "my_env",
   "language": "python",
   "name": "python3"
  },
  "language_info": {
   "codemirror_mode": {
    "name": "ipython",
    "version": 3
   },
   "file_extension": ".py",
   "mimetype": "text/x-python",
   "name": "python",
   "nbconvert_exporter": "python",
   "pygments_lexer": "ipython3",
   "version": "3.11.4"
  }
 },
 "nbformat": 4,
 "nbformat_minor": 2
}
