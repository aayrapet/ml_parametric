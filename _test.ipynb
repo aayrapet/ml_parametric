{
 "cells": [
  {
   "cell_type": "code",
   "execution_count": 42,
   "metadata": {},
   "outputs": [],
   "source": [
    "from _linear import LinearRegression\n",
    "import _dgp as dg\n",
    "from _metrics import mse_score, CrossValidation, accuracy_score,f1_score\n",
    "from  _logistic import LogisticRegression\n",
    "import numpy as np\n",
    "import pandas as pd"
   ]
  },
  {
   "cell_type": "markdown",
   "metadata": {},
   "source": [
    "## **Table of Contents**\n",
    "\n",
    "- [Linear Regression](#linear-regression)\n",
    "  - [Generate data and fit first model](#generate-data-and-fit-first-model)\n",
    "  - [Evaluate model performance](#evaluate-model-performance)\n",
    "  - [Automatic selection of variables](#automatic-selection-of-variables) \n",
    "  - [Drawbacks and to do list](#drawbacks-and-to-do-list)\n",
    "\n",
    "- [Logistic Regression](#logistic-regression)\n",
    "  - [Work with excel data (5 variables in total)](#work-with-excel-data-5-variables-in-total)\n",
    "  - [Evaluate model performance](#evaluate-model-performance-logistic-regression)\n",
    "  - [Automatic selection of variables](#automatic-selection-of-variables-logistic-regression)\n",
    "  - [Generate 50 variables and autoselection](#Generate-50-variables-and-autoselection)\n",
    "\n",
    "\n",
    "\n",
    "- [Logistic Regression OVR](#Logistic-Regression-OVR)\n",
    "  - [Fit and predict model](#Fit-and-predict-model)\n",
    "  - [Automatic selection of variables](#automatic-selection-of-variables-Log-OVR)\n",
    "  - [Evaluate model performance](#Evaluate-model-performance-Log-OVR)\n",
    "\n",
    "\n",
    "\n",
    "- [Logistic Regression Softmax](#Logistic-Regression-Softmax)\n",
    "  - [Fit and predict model](#Fit-and-predict-model-Log-SFTMX)\n",
    "  - [Evaluate model performance](#Evaluate-model-performance-Log-SFTMX)\n",
    "  - [Automatic selection of variables](#automatic-selection-of-variables-Log-SFTMX)\n"
   ]
  },
  {
   "cell_type": "markdown",
   "metadata": {},
   "source": [
    "\n",
    "## **Linear Regression** <a id='linear-regression'></a>\n"
   ]
  },
  {
   "cell_type": "markdown",
   "metadata": {},
   "source": [
    "### **Generate data and fit first model**"
   ]
  },
  {
   "cell_type": "markdown",
   "metadata": {},
   "source": [
    "Generate data with no correlation with only 5 true variables among 50 variables"
   ]
  },
  {
   "cell_type": "code",
   "execution_count": 43,
   "metadata": {},
   "outputs": [
    {
     "name": "stdout",
     "output_type": "stream",
     "text": [
      "(500, 50)\n",
      "(500,)\n"
     ]
    }
   ],
   "source": [
    "x,y=dg.gen(type=1)\n",
    "#get matrix size to understand what is the data begind\n",
    "print(x.shape)\n",
    "print(y.shape)"
   ]
  },
  {
   "cell_type": "markdown",
   "metadata": {},
   "source": [
    "Run linear regression and get B parameter"
   ]
  },
  {
   "cell_type": "code",
   "execution_count": 44,
   "metadata": {},
   "outputs": [
    {
     "name": "stdout",
     "output_type": "stream",
     "text": [
      "algorithm did  converge under 100 iterations (at 2 iterations)\n"
     ]
    },
    {
     "data": {
      "text/plain": [
       "array([-2.08826857e-03,  2.50707569e+00,  1.30029974e+00,  4.94942745e-01,\n",
       "       -5.05120915e-01, -3.40735850e+00,  6.38589597e-03, -8.21298506e-04,\n",
       "       -1.70335093e-03, -3.79786833e-03, -7.18114798e-04, -9.51195111e-03,\n",
       "        2.13622281e-03,  5.08380226e-03,  2.54999630e-04, -7.12511603e-03,\n",
       "       -5.04421433e-03, -3.77307133e-03, -8.96545318e-03, -4.26558726e-03,\n",
       "        1.65588231e-03,  3.53276168e-03, -3.24868487e-03,  4.38376497e-04,\n",
       "       -2.08058274e-03,  6.80588827e-05, -2.22418925e-03,  7.64943744e-03,\n",
       "        2.12951747e-03,  2.14148214e-03,  4.50778398e-03, -7.98374734e-03,\n",
       "        4.06051251e-03, -3.60530350e-04,  7.67713195e-03, -1.08796243e-03,\n",
       "        4.20013661e-03, -5.62492094e-03, -2.54044950e-03, -2.40866424e-03,\n",
       "       -4.68046528e-03, -3.31485836e-03, -3.63670848e-03,  4.05998926e-03,\n",
       "       -9.58988274e-03, -3.16537090e-03,  4.15397112e-03, -6.37431764e-03,\n",
       "       -2.75352976e-03, -4.23764453e-03, -9.75608027e-03])"
      ]
     },
     "execution_count": 44,
     "metadata": {},
     "output_type": "execute_result"
    }
   ],
   "source": [
    "#use Newton Raphson optimisation which is the best optimiser for parametric models\n",
    "regression=LinearRegression(solver=\"nr\")\n",
    "regression.fit(x,y)"
   ]
  },
  {
   "cell_type": "markdown",
   "metadata": {},
   "source": [
    "As we used NR optimisation, it converged very fast, only in 2 iterations\n",
    "\n",
    "if We want to interpret Linear regression results, we can do so by typing this command:"
   ]
  },
  {
   "cell_type": "code",
   "execution_count": 21,
   "metadata": {},
   "outputs": [
    {
     "data": {
      "text/html": [
       "<div>\n",
       "<style scoped>\n",
       "    .dataframe tbody tr th:only-of-type {\n",
       "        vertical-align: middle;\n",
       "    }\n",
       "\n",
       "    .dataframe tbody tr th {\n",
       "        vertical-align: top;\n",
       "    }\n",
       "\n",
       "    .dataframe thead th {\n",
       "        text-align: right;\n",
       "    }\n",
       "</style>\n",
       "<table border=\"1\" class=\"dataframe\">\n",
       "  <thead>\n",
       "    <tr style=\"text-align: right;\">\n",
       "      <th></th>\n",
       "      <th>params</th>\n",
       "      <th>std</th>\n",
       "      <th>t value</th>\n",
       "      <th>p value</th>\n",
       "    </tr>\n",
       "  </thead>\n",
       "  <tbody>\n",
       "    <tr>\n",
       "      <th>0</th>\n",
       "      <td>-0.005344</td>\n",
       "      <td>0.004268</td>\n",
       "      <td>-1.252140</td>\n",
       "      <td>0.2112</td>\n",
       "    </tr>\n",
       "    <tr>\n",
       "      <th>1</th>\n",
       "      <td>2.498205</td>\n",
       "      <td>0.004386</td>\n",
       "      <td>569.563428</td>\n",
       "      <td>0.0000</td>\n",
       "    </tr>\n",
       "    <tr>\n",
       "      <th>2</th>\n",
       "      <td>1.303919</td>\n",
       "      <td>0.004263</td>\n",
       "      <td>305.873759</td>\n",
       "      <td>0.0000</td>\n",
       "    </tr>\n",
       "    <tr>\n",
       "      <th>3</th>\n",
       "      <td>0.499912</td>\n",
       "      <td>0.004158</td>\n",
       "      <td>120.227360</td>\n",
       "      <td>0.0000</td>\n",
       "    </tr>\n",
       "    <tr>\n",
       "      <th>4</th>\n",
       "      <td>-0.498036</td>\n",
       "      <td>0.004299</td>\n",
       "      <td>-115.858478</td>\n",
       "      <td>0.0000</td>\n",
       "    </tr>\n",
       "  </tbody>\n",
       "</table>\n",
       "</div>"
      ],
      "text/plain": [
       "     params       std     t value  p value\n",
       "0 -0.005344  0.004268   -1.252140   0.2112\n",
       "1  2.498205  0.004386  569.563428   0.0000\n",
       "2  1.303919  0.004263  305.873759   0.0000\n",
       "3  0.499912  0.004158  120.227360   0.0000\n",
       "4 -0.498036  0.004299 -115.858478   0.0000"
      ]
     },
     "execution_count": 21,
     "metadata": {},
     "output_type": "execute_result"
    }
   ],
   "source": [
    "regression.get_inference().head()"
   ]
  },
  {
   "cell_type": "markdown",
   "metadata": {},
   "source": [
    "### **Evaluate model performance**"
   ]
  },
  {
   "cell_type": "markdown",
   "metadata": {},
   "source": [
    "We can evaluate model performance by looking at Mean squared error"
   ]
  },
  {
   "cell_type": "code",
   "execution_count": 16,
   "metadata": {},
   "outputs": [
    {
     "data": {
      "text/plain": [
       "0.008947520780878555"
      ]
     },
     "execution_count": 16,
     "metadata": {},
     "output_type": "execute_result"
    }
   ],
   "source": [
    "mse_score(y,regression.predict(x))"
   ]
  },
  {
   "cell_type": "markdown",
   "metadata": {},
   "source": [
    "However, the best way to evaluate model performance remains Cross Validation for several reasons"
   ]
  },
  {
   "cell_type": "code",
   "execution_count": 17,
   "metadata": {},
   "outputs": [
    {
     "name": "stdout",
     "output_type": "stream",
     "text": [
      "algorithm did  converge under 100 iterations (at 2 iterations)\n",
      "algorithm did  converge under 100 iterations (at 2 iterations)\n",
      "algorithm did  converge under 100 iterations (at 2 iterations)\n",
      "algorithm did  converge under 100 iterations (at 2 iterations)\n",
      "algorithm did  converge under 100 iterations (at 2 iterations)\n",
      "algorithm did  converge under 100 iterations (at 2 iterations)\n",
      "algorithm did  converge under 100 iterations (at 2 iterations)\n",
      "[0.009339829513632726, 0.010377676180038776, 0.012065743000578374, 0.013332362334853482, 0.013774820256179649, 0.009398173839300278, 0.005305990637966489]\n"
     ]
    }
   ],
   "source": [
    "list_of_mse=CrossValidation(Class_algorithm=regression,x=x,y=y,metrics_function=mse_score,nb_k_fold=6)\n",
    "print(list_of_mse)"
   ]
  },
  {
   "cell_type": "markdown",
   "metadata": {},
   "source": [
    "we can average these results to get average model performance"
   ]
  },
  {
   "cell_type": "code",
   "execution_count": 9,
   "metadata": {},
   "outputs": [
    {
     "data": {
      "text/plain": [
       "0.01009195375055408"
      ]
     },
     "execution_count": 9,
     "metadata": {},
     "output_type": "execute_result"
    }
   ],
   "source": [
    "np.mean(list_of_mse)"
   ]
  },
  {
   "cell_type": "markdown",
   "metadata": {},
   "source": [
    "### **Automatic selection of variables**"
   ]
  },
  {
   "cell_type": "markdown",
   "metadata": {},
   "source": [
    "**However, it is not a good practice to perform linear regression using all variables.** In order to obtain the best subset, several strategies can be adopted:\n",
    "\n",
    "- **VIF models:** These identify and drop collinear variables to avoid multicollinearity issues.\n",
    "- **Lasso regression:** This technique can be used for feature selection by penalizing the absolute size of the regression coefficients.\n",
    "- **Forward/Backward/Stepwise selection:** These are iterative methods for feature selection, where variables are added or removed based on their impact on model performance.\n",
    "\n",
    "In this section we will use last suggestion\n"
   ]
  },
  {
   "cell_type": "code",
   "execution_count": 22,
   "metadata": {},
   "outputs": [
    {
     "data": {
      "text/plain": [
       "array([4, 0, 1, 2, 3])"
      ]
     },
     "execution_count": 22,
     "metadata": {},
     "output_type": "execute_result"
    }
   ],
   "source": [
    "col_index=regression.autoselection(\"forward\",\"BIC_ll\",print_message=False)\n",
    "col_index"
   ]
  },
  {
   "cell_type": "markdown",
   "metadata": {},
   "source": [
    "and we get the following columns of X Matrix , first 5 variables that are also 5 true variables that we defined in dgp"
   ]
  },
  {
   "cell_type": "code",
   "execution_count": 23,
   "metadata": {},
   "outputs": [
    {
     "data": {
      "text/plain": [
       "array([[ 0.01516751,  0.04356754,  1.22018023,  1.16884148, -0.18863908],\n",
       "       [ 0.38470383, -0.50790125, -0.6858267 , -1.07900273,  0.6559498 ],\n",
       "       [-1.26799987,  1.80332023,  0.35896385,  0.33896862, -0.38083356],\n",
       "       ...,\n",
       "       [-0.02579775,  1.27848172,  0.34700335,  0.97544884, -1.51427759],\n",
       "       [-0.46805553, -1.06037772, -1.44214529,  0.79863867,  0.39274082],\n",
       "       [ 0.71841844, -0.82243412,  0.43663251,  0.71719104, -1.30066039]])"
      ]
     },
     "execution_count": 23,
     "metadata": {},
     "output_type": "execute_result"
    }
   ],
   "source": [
    "x[:,col_index]"
   ]
  },
  {
   "cell_type": "code",
   "execution_count": 24,
   "metadata": {},
   "outputs": [
    {
     "data": {
      "text/plain": [
       "array([4, 0, 1, 2, 3])"
      ]
     },
     "execution_count": 24,
     "metadata": {},
     "output_type": "execute_result"
    }
   ],
   "source": [
    "col_index=regression.autoselection(\"stepwise\",\"BIC_ll\",print_message=False)\n",
    "col_index"
   ]
  },
  {
   "cell_type": "code",
   "execution_count": 28,
   "metadata": {},
   "outputs": [
    {
     "data": {
      "text/plain": [
       "array([0, 1, 2, 3, 4])"
      ]
     },
     "execution_count": 28,
     "metadata": {},
     "output_type": "execute_result"
    }
   ],
   "source": [
    "col_index=regression.autoselection(\"backward\",\"BIC_ll\",print_message=False)\n",
    "col_index"
   ]
  },
  {
   "cell_type": "markdown",
   "metadata": {},
   "source": [
    "### **Drawbacks and to do list**"
   ]
  },
  {
   "cell_type": "markdown",
   "metadata": {},
   "source": [
    "**In this section, we discussed the machine learning approach of estimating the model parameters of Linear Regression.**\n",
    "\n",
    "<span style=\"color:red\"> However, we did not analyze the validity tests of normality and homoscedasticity of residuals, endogenous variables, etc. This section will be developed soon.</span>\n",
    "\n",
    "\n",
    "\n",
    "\n",
    "\n",
    "\n",
    "\n"
   ]
  },
  {
   "cell_type": "markdown",
   "metadata": {},
   "source": [
    "## **Logistic Regression**"
   ]
  },
  {
   "cell_type": "markdown",
   "metadata": {},
   "source": [
    "### **Work with excel data (5 variables in total)**"
   ]
  },
  {
   "cell_type": "markdown",
   "metadata": {},
   "source": [
    "Load data and explore "
   ]
  },
  {
   "cell_type": "code",
   "execution_count": 45,
   "metadata": {},
   "outputs": [],
   "source": [
    "table=pd.read_csv(\"data/exampleLR.csv\")"
   ]
  },
  {
   "cell_type": "code",
   "execution_count": 3,
   "metadata": {},
   "outputs": [
    {
     "data": {
      "text/html": [
       "<div>\n",
       "<style scoped>\n",
       "    .dataframe tbody tr th:only-of-type {\n",
       "        vertical-align: middle;\n",
       "    }\n",
       "\n",
       "    .dataframe tbody tr th {\n",
       "        vertical-align: top;\n",
       "    }\n",
       "\n",
       "    .dataframe thead th {\n",
       "        text-align: right;\n",
       "    }\n",
       "</style>\n",
       "<table border=\"1\" class=\"dataframe\">\n",
       "  <thead>\n",
       "    <tr style=\"text-align: right;\">\n",
       "      <th></th>\n",
       "      <th>Unnamed: 0</th>\n",
       "      <th>V1</th>\n",
       "      <th>V2</th>\n",
       "      <th>V3</th>\n",
       "      <th>V4</th>\n",
       "      <th>V5</th>\n",
       "      <th>y</th>\n",
       "    </tr>\n",
       "  </thead>\n",
       "  <tbody>\n",
       "    <tr>\n",
       "      <th>0</th>\n",
       "      <td>0</td>\n",
       "      <td>-0.560476</td>\n",
       "      <td>-0.601893</td>\n",
       "      <td>-0.995799</td>\n",
       "      <td>-0.820987</td>\n",
       "      <td>-0.511604</td>\n",
       "      <td>0</td>\n",
       "    </tr>\n",
       "    <tr>\n",
       "      <th>1</th>\n",
       "      <td>1</td>\n",
       "      <td>-0.230177</td>\n",
       "      <td>-0.993699</td>\n",
       "      <td>-1.039955</td>\n",
       "      <td>-0.307257</td>\n",
       "      <td>0.236938</td>\n",
       "      <td>0</td>\n",
       "    </tr>\n",
       "    <tr>\n",
       "      <th>2</th>\n",
       "      <td>2</td>\n",
       "      <td>1.558708</td>\n",
       "      <td>1.026785</td>\n",
       "      <td>-0.017980</td>\n",
       "      <td>-0.902098</td>\n",
       "      <td>-0.541589</td>\n",
       "      <td>1</td>\n",
       "    </tr>\n",
       "    <tr>\n",
       "      <th>3</th>\n",
       "      <td>3</td>\n",
       "      <td>0.070508</td>\n",
       "      <td>0.751061</td>\n",
       "      <td>-0.132175</td>\n",
       "      <td>0.627069</td>\n",
       "      <td>1.219228</td>\n",
       "      <td>0</td>\n",
       "    </tr>\n",
       "    <tr>\n",
       "      <th>4</th>\n",
       "      <td>4</td>\n",
       "      <td>0.129288</td>\n",
       "      <td>-1.509167</td>\n",
       "      <td>-2.549343</td>\n",
       "      <td>1.120355</td>\n",
       "      <td>0.174136</td>\n",
       "      <td>0</td>\n",
       "    </tr>\n",
       "  </tbody>\n",
       "</table>\n",
       "</div>"
      ],
      "text/plain": [
       "   Unnamed: 0        V1        V2        V3        V4        V5  y\n",
       "0           0 -0.560476 -0.601893 -0.995799 -0.820987 -0.511604  0\n",
       "1           1 -0.230177 -0.993699 -1.039955 -0.307257  0.236938  0\n",
       "2           2  1.558708  1.026785 -0.017980 -0.902098 -0.541589  1\n",
       "3           3  0.070508  0.751061 -0.132175  0.627069  1.219228  0\n",
       "4           4  0.129288 -1.509167 -2.549343  1.120355  0.174136  0"
      ]
     },
     "execution_count": 3,
     "metadata": {},
     "output_type": "execute_result"
    }
   ],
   "source": [
    "table.head()"
   ]
  },
  {
   "cell_type": "markdown",
   "metadata": {},
   "source": [
    "Always convert data to numpy array before starting the work"
   ]
  },
  {
   "cell_type": "code",
   "execution_count": 46,
   "metadata": {},
   "outputs": [],
   "source": [
    "x,y=np.array(table.drop([\"y\",\"Unnamed: 0\"],axis=1)),np.array(table[\"y\"])\n",
    "column_names_x=table.drop([\"y\",\"Unnamed: 0\"],axis=1).columns.tolist()"
   ]
  },
  {
   "cell_type": "markdown",
   "metadata": {},
   "source": [
    "**Are classes balanced?**\n",
    "\n",
    "- If yes, the use of accuracy is enough (our case).\n",
    "- If not:\n",
    "  - Use other metrics such as precision, recall, F1 score, etc.\n",
    "  - Do over/undersampling.\n",
    "\n"
   ]
  },
  {
   "cell_type": "code",
   "execution_count": 4,
   "metadata": {},
   "outputs": [
    {
     "data": {
      "text/plain": [
       "y\n",
       "0    253\n",
       "1    247\n",
       "Name: count, dtype: int64"
      ]
     },
     "execution_count": 4,
     "metadata": {},
     "output_type": "execute_result"
    }
   ],
   "source": [
    "table[\"y\"].value_counts()"
   ]
  },
  {
   "cell_type": "markdown",
   "metadata": {},
   "source": [
    "Try Gradient Descent algorithm"
   ]
  },
  {
   "cell_type": "code",
   "execution_count": 47,
   "metadata": {},
   "outputs": [
    {
     "name": "stdout",
     "output_type": "stream",
     "text": [
      "algorithm did not converge under 100 iterations,so the calculated parameter is biased\n"
     ]
    },
    {
     "data": {
      "text/plain": [
       "array([-0.98177656,  1.93284507,  0.89477738,  0.77241981, -1.06475169])"
      ]
     },
     "execution_count": 47,
     "metadata": {},
     "output_type": "execute_result"
    }
   ],
   "source": [
    "model=LogisticRegression(solver=\"gd\",add_intercept=False)\n",
    "model.fit(x,y)"
   ]
  },
  {
   "cell_type": "markdown",
   "metadata": {},
   "source": [
    "**Algorithm could not converge:**\n",
    "If you have this message, **NEVER** proceed to further steps as \n",
    "the estimated parameter is biased. \n",
    "\n",
    "Therefore, try other hyperparameters or optimisations to aim  convergence.\n"
   ]
  },
  {
   "cell_type": "code",
   "execution_count": 48,
   "metadata": {},
   "outputs": [
    {
     "name": "stdout",
     "output_type": "stream",
     "text": [
      "algorithm did  converge under 300 iterations (at 79 iterations)\n"
     ]
    },
    {
     "data": {
      "text/plain": [
       "array([-0.14211795, -1.10847242,  2.18459166,  1.02655283,  0.87139786,\n",
       "       -1.20943036])"
      ]
     },
     "execution_count": 48,
     "metadata": {},
     "output_type": "execute_result"
    }
   ],
   "source": [
    "model1=LogisticRegression(solver=\"gd\",learning_rate=0.004,max_iteration=300,add_intercept=True)\n",
    "model1.fit(x,y)"
   ]
  },
  {
   "cell_type": "markdown",
   "metadata": {},
   "source": [
    "We can also try NR optimisation that will converge much more faster\n",
    "\n",
    "Be very cautious with this method as it requires that X matrix is of full rank which is not guaranteed in case of image or text classification"
   ]
  },
  {
   "cell_type": "code",
   "execution_count": 30,
   "metadata": {},
   "outputs": [
    {
     "name": "stdout",
     "output_type": "stream",
     "text": [
      "algorithm did  converge under 100 iterations (at 6 iterations)\n"
     ]
    },
    {
     "data": {
      "text/plain": [
       "array([-0.14299915, -1.11517033,  2.19757232,  1.03328488,  0.87638437,\n",
       "       -1.21658404])"
      ]
     },
     "execution_count": 30,
     "metadata": {},
     "output_type": "execute_result"
    }
   ],
   "source": [
    "model2=LogisticRegression(solver=\"nr\")\n",
    "model2.fit(x,y)"
   ]
  },
  {
   "cell_type": "markdown",
   "metadata": {},
   "source": [
    "Try stochastic gradient descent with 68 as size of mini batch to see the performance"
   ]
  },
  {
   "cell_type": "code",
   "execution_count": 31,
   "metadata": {},
   "outputs": [
    {
     "name": "stdout",
     "output_type": "stream",
     "text": [
      "algorithm did  converge under 2400 iterations (at 1264 iterations)\n"
     ]
    },
    {
     "data": {
      "text/plain": [
       "array([-1.05436949,  2.0732936 ,  0.96684633,  0.82591372, -1.14325812])"
      ]
     },
     "execution_count": 31,
     "metadata": {},
     "output_type": "execute_result"
    }
   ],
   "source": [
    "model3=LogisticRegression(solver=\"sgd\",learning_rate=0.001,max_iteration=300,mini_batch_size=68,add_intercept=False)\n",
    "model3.fit(x,y)"
   ]
  },
  {
   "cell_type": "markdown",
   "metadata": {},
   "source": [
    "With new learning rate algorithm converged so we will use results of model1 to make predictions"
   ]
  },
  {
   "cell_type": "code",
   "execution_count": 49,
   "metadata": {},
   "outputs": [
    {
     "data": {
      "text/plain": [
       "array([0., 0., 1., 1., 0.])"
      ]
     },
     "execution_count": 49,
     "metadata": {},
     "output_type": "execute_result"
    }
   ],
   "source": [
    "#predict labels \n",
    "model1.predict(x,last_class=False)[0:5]\n"
   ]
  },
  {
   "cell_type": "code",
   "execution_count": 50,
   "metadata": {},
   "outputs": [
    {
     "data": {
      "text/plain": [
       "array([[0.12404903, 0.87595097],\n",
       "       [0.02461034, 0.97538966],\n",
       "       [0.55568638, 0.44431362],\n",
       "       [0.58823128, 0.41176872],\n",
       "       [0.00434789, 0.99565211]])"
      ]
     },
     "execution_count": 50,
     "metadata": {},
     "output_type": "execute_result"
    }
   ],
   "source": [
    "#get probabilities of ALL classes \n",
    "model1.proba[0:5]"
   ]
  },
  {
   "cell_type": "markdown",
   "metadata": {},
   "source": [
    "We can access Information Criteria of the model"
   ]
  },
  {
   "cell_type": "code",
   "execution_count": 51,
   "metadata": {},
   "outputs": [
    {
     "data": {
      "text/plain": [
       "{'LL': -177.40450034974424,\n",
       " 'AIC_ll': 366.8090006994885,\n",
       " 'BIC_ll': 392.0966492900216}"
      ]
     },
     "execution_count": 51,
     "metadata": {},
     "output_type": "execute_result"
    }
   ],
   "source": [
    "model1.get_inference(only_IC=True)"
   ]
  },
  {
   "cell_type": "markdown",
   "metadata": {},
   "source": [
    "As well as conclude about parameter significance"
   ]
  },
  {
   "cell_type": "code",
   "execution_count": 52,
   "metadata": {},
   "outputs": [
    {
     "data": {
      "text/html": [
       "<div>\n",
       "<style scoped>\n",
       "    .dataframe tbody tr th:only-of-type {\n",
       "        vertical-align: middle;\n",
       "    }\n",
       "\n",
       "    .dataframe tbody tr th {\n",
       "        vertical-align: top;\n",
       "    }\n",
       "\n",
       "    .dataframe thead th {\n",
       "        text-align: right;\n",
       "    }\n",
       "</style>\n",
       "<table border=\"1\" class=\"dataframe\">\n",
       "  <thead>\n",
       "    <tr style=\"text-align: right;\">\n",
       "      <th></th>\n",
       "      <th>coef</th>\n",
       "      <th>std</th>\n",
       "      <th>z value</th>\n",
       "      <th>p value</th>\n",
       "      <th>p value star</th>\n",
       "      <th>odds ratio</th>\n",
       "    </tr>\n",
       "  </thead>\n",
       "  <tbody>\n",
       "    <tr>\n",
       "      <th>in_1</th>\n",
       "      <td>-0.1421</td>\n",
       "      <td>0.13</td>\n",
       "      <td>-1.07</td>\n",
       "      <td>0.286</td>\n",
       "      <td></td>\n",
       "      <td>0.87</td>\n",
       "    </tr>\n",
       "    <tr>\n",
       "      <th>V1_1</th>\n",
       "      <td>-1.1085</td>\n",
       "      <td>0.16</td>\n",
       "      <td>-6.96</td>\n",
       "      <td>0.0</td>\n",
       "      <td>***</td>\n",
       "      <td>0.33</td>\n",
       "    </tr>\n",
       "    <tr>\n",
       "      <th>V2_1</th>\n",
       "      <td>2.1846</td>\n",
       "      <td>0.22</td>\n",
       "      <td>9.81</td>\n",
       "      <td>0.0</td>\n",
       "      <td>***</td>\n",
       "      <td>8.89</td>\n",
       "    </tr>\n",
       "    <tr>\n",
       "      <th>V3_1</th>\n",
       "      <td>1.0266</td>\n",
       "      <td>0.16</td>\n",
       "      <td>6.27</td>\n",
       "      <td>0.0</td>\n",
       "      <td>***</td>\n",
       "      <td>2.79</td>\n",
       "    </tr>\n",
       "    <tr>\n",
       "      <th>V4_1</th>\n",
       "      <td>0.8714</td>\n",
       "      <td>0.14</td>\n",
       "      <td>6.03</td>\n",
       "      <td>0.0</td>\n",
       "      <td>***</td>\n",
       "      <td>2.39</td>\n",
       "    </tr>\n",
       "    <tr>\n",
       "      <th>V5_1</th>\n",
       "      <td>-1.2094</td>\n",
       "      <td>0.17</td>\n",
       "      <td>-6.98</td>\n",
       "      <td>0.0</td>\n",
       "      <td>***</td>\n",
       "      <td>0.3</td>\n",
       "    </tr>\n",
       "  </tbody>\n",
       "</table>\n",
       "</div>"
      ],
      "text/plain": [
       "         coef   std z value p value p value star odds ratio\n",
       "in_1  -0.1421  0.13   -1.07   0.286                    0.87\n",
       "V1_1  -1.1085  0.16   -6.96     0.0          ***       0.33\n",
       "V2_1   2.1846  0.22    9.81     0.0          ***       8.89\n",
       "V3_1   1.0266  0.16    6.27     0.0          ***       2.79\n",
       "V4_1   0.8714  0.14    6.03     0.0          ***       2.39\n",
       "V5_1  -1.2094  0.17   -6.98     0.0          ***        0.3"
      ]
     },
     "execution_count": 52,
     "metadata": {},
     "output_type": "execute_result"
    }
   ],
   "source": [
    "model1.get_inference(only_IC=False,ordered_columns_names=column_names_x)"
   ]
  },
  {
   "cell_type": "markdown",
   "metadata": {},
   "source": [
    "### **Evaluate model performance** (Logistic Regression)"
   ]
  },
  {
   "cell_type": "markdown",
   "metadata": {},
   "source": [
    "Evaluate model with accuracy and f1score "
   ]
  },
  {
   "cell_type": "code",
   "execution_count": 11,
   "metadata": {},
   "outputs": [
    {
     "data": {
      "text/plain": [
       "0.844"
      ]
     },
     "execution_count": 11,
     "metadata": {},
     "output_type": "execute_result"
    }
   ],
   "source": [
    "#one shot accuracy score\n",
    "accuracy_score(y,model1.predict(x,last_class=False))"
   ]
  },
  {
   "cell_type": "code",
   "execution_count": 12,
   "metadata": {},
   "outputs": [
    {
     "name": "stdout",
     "output_type": "stream",
     "text": [
      "algorithm did  converge under 300 iterations (at 87 iterations)\n",
      "algorithm did  converge under 300 iterations (at 110 iterations)\n",
      "algorithm did  converge under 300 iterations (at 117 iterations)\n",
      "algorithm did  converge under 300 iterations (at 104 iterations)\n"
     ]
    },
    {
     "data": {
      "text/plain": [
       "[0.92, 0.824, 0.8, 0.824]"
      ]
     },
     "execution_count": 12,
     "metadata": {},
     "output_type": "execute_result"
    }
   ],
   "source": [
    "#using cross validation\n",
    "CrossValidation(Class_algorithm=model1,x=x,y=y,metrics_function=accuracy_score,nb_k_fold=4)"
   ]
  },
  {
   "cell_type": "code",
   "execution_count": 13,
   "metadata": {},
   "outputs": [
    {
     "name": "stdout",
     "output_type": "stream",
     "text": [
      "algorithm did  converge under 300 iterations (at 89 iterations)\n",
      "algorithm did  converge under 300 iterations (at 100 iterations)\n",
      "algorithm did  converge under 300 iterations (at 97 iterations)\n",
      "algorithm did  converge under 300 iterations (at 119 iterations)\n"
     ]
    },
    {
     "data": {
      "text/plain": [
       "[0.8596491228070176, 0.8702290076335878, 0.8, 0.7804878048780488]"
      ]
     },
     "execution_count": 13,
     "metadata": {},
     "output_type": "execute_result"
    }
   ],
   "source": [
    "CrossValidation(Class_algorithm=model1,x=x,y=y,metrics_function=f1_score,nb_k_fold=4)"
   ]
  },
  {
   "cell_type": "markdown",
   "metadata": {},
   "source": [
    "### **Automatic selection of variables** (Logistic Regression)"
   ]
  },
  {
   "cell_type": "code",
   "execution_count": 14,
   "metadata": {},
   "outputs": [
    {
     "data": {
      "text/plain": [
       "array([1, 4, 0, 2, 3])"
      ]
     },
     "execution_count": 14,
     "metadata": {},
     "output_type": "execute_result"
    }
   ],
   "source": [
    "index_cols=model1.autoselection(\"forward\",\"BIC_ll\",print_message=False)\n",
    "index_cols"
   ]
  },
  {
   "cell_type": "code",
   "execution_count": 15,
   "metadata": {},
   "outputs": [
    {
     "data": {
      "text/plain": [
       "array([0, 1, 2, 3, 4])"
      ]
     },
     "execution_count": 15,
     "metadata": {},
     "output_type": "execute_result"
    }
   ],
   "source": [
    "index_cols=model1.autoselection(\"backward\",\"BIC_ll\",print_message=False)\n",
    "index_cols"
   ]
  },
  {
   "cell_type": "code",
   "execution_count": 16,
   "metadata": {},
   "outputs": [
    {
     "data": {
      "text/plain": [
       "array([4, 1, 0, 2, 3])"
      ]
     },
     "execution_count": 16,
     "metadata": {},
     "output_type": "execute_result"
    }
   ],
   "source": [
    "index_cols=model1.autoselection(\"stepwise\",\"BIC_ll\",print_message=False)\n",
    "index_cols"
   ]
  },
  {
   "cell_type": "markdown",
   "metadata": {},
   "source": [
    "As you see in this case we get 5 variables which are 5 true variables\n",
    "\n",
    "We can see how this selection performs on another Data Generation Process that will contain 5 true variables and 45 false variables"
   ]
  },
  {
   "cell_type": "markdown",
   "metadata": {},
   "source": [
    "### **Generate 50 variables and autoselection**"
   ]
  },
  {
   "cell_type": "code",
   "execution_count": 2,
   "metadata": {},
   "outputs": [],
   "source": [
    "x,y=dg.gen(1,\"logistic\")"
   ]
  },
  {
   "cell_type": "code",
   "execution_count": 28,
   "metadata": {},
   "outputs": [
    {
     "name": "stdout",
     "output_type": "stream",
     "text": [
      "algorithm did  converge under 100 iterations (at 9 iterations)\n"
     ]
    },
    {
     "data": {
      "text/plain": [
       "array([ 3.68356259e-01,  4.17576652e+00,  2.45656155e+00,  1.14517428e+00,\n",
       "       -9.25465015e-01, -6.14405346e+00, -1.57876464e-01, -3.98723522e-01,\n",
       "        2.89763066e-01,  4.07088701e-01,  2.68217231e-01,  5.37650899e-01,\n",
       "        5.51471596e-01,  2.77787653e-02, -1.23918994e-01,  3.01416615e-02,\n",
       "        2.23956451e-03, -5.17056366e-01, -2.88207203e-01,  2.20257943e-01,\n",
       "       -1.19508841e-01, -1.58358294e-01, -3.31212802e-01, -9.96478299e-02,\n",
       "       -9.15638576e-02,  2.45833086e-01, -8.03545080e-02, -3.24741110e-01,\n",
       "        2.09788239e-01, -2.67504329e-01, -1.91994199e-02, -1.95555148e-01,\n",
       "       -1.94559088e-02, -2.21139792e-02, -2.78842802e-01,  4.98628510e-01,\n",
       "        2.09473275e-01, -1.23428219e-01,  3.06597942e-01,  4.09820588e-01,\n",
       "        2.43880795e-02,  1.22607848e-01,  4.75156044e-01,  2.22176634e-01,\n",
       "       -1.35562492e-01, -4.94108726e-01, -3.46332998e-01, -7.30170182e-02,\n",
       "        9.33952903e-02,  2.61361158e-01,  4.24655606e-02])"
      ]
     },
     "execution_count": 28,
     "metadata": {},
     "output_type": "execute_result"
    }
   ],
   "source": [
    "model_new=LogisticRegression(solver=\"nr\")\n",
    "model_new.fit(x,y)"
   ]
  },
  {
   "cell_type": "code",
   "execution_count": 29,
   "metadata": {},
   "outputs": [
    {
     "data": {
      "text/plain": [
       "array([4, 0, 1, 3, 2])"
      ]
     },
     "execution_count": 29,
     "metadata": {},
     "output_type": "execute_result"
    }
   ],
   "source": [
    "model_new.autoselection(\"forward\",\"BIC_ll\",print_message=False)"
   ]
  },
  {
   "cell_type": "code",
   "execution_count": 55,
   "metadata": {},
   "outputs": [
    {
     "data": {
      "text/plain": [
       "array([3, 4, 0, 1, 2])"
      ]
     },
     "execution_count": 55,
     "metadata": {},
     "output_type": "execute_result"
    }
   ],
   "source": [
    "model_new.autoselection(\"stepwise\",\"BIC_ll\",print_message=False)"
   ]
  },
  {
   "cell_type": "code",
   "execution_count": 14,
   "metadata": {},
   "outputs": [
    {
     "data": {
      "text/plain": [
       "array([0, 1, 2, 3, 4])"
      ]
     },
     "execution_count": 14,
     "metadata": {},
     "output_type": "execute_result"
    }
   ],
   "source": [
    "model_new.autoselection(\"backward\",\"BIC_ll\",print_message=False)"
   ]
  },
  {
   "cell_type": "markdown",
   "metadata": {},
   "source": [
    "Despite having 50 variables in the dataset, the model successfully identified only 5 true variables. All 3 models gave same results which is a normal behaviour."
   ]
  },
  {
   "cell_type": "markdown",
   "metadata": {},
   "source": [
    "**Let's now generalise this approach for multiclass classification using OVR algoritmn and then softmax regression**"
   ]
  },
  {
   "cell_type": "markdown",
   "metadata": {},
   "source": []
  },
  {
   "cell_type": "markdown",
   "metadata": {},
   "source": [
    "## **Logistic Regression OVR**"
   ]
  },
  {
   "cell_type": "markdown",
   "metadata": {},
   "source": [
    "\n",
    "\n",
    "Logistic OVR is a multiclass classification strategy where you train multiple binary classifiers, each distinguishing between one class and the rest.\n",
    "\n",
    "**Classifier Training**:\n",
    "   - For each class:\n",
    "     - Transform data into binary classification (class vs. rest).\n",
    "     - Train binary classifier (e.g., logistic regression).\n",
    "\n",
    "**Classification**:\n",
    "   - Predict class by selecting the classifier with highest probability.\n",
    "\n"
   ]
  },
  {
   "cell_type": "markdown",
   "metadata": {},
   "source": [
    "### **Fit and predict model**"
   ]
  },
  {
   "cell_type": "markdown",
   "metadata": {},
   "source": [
    "Load data"
   ]
  },
  {
   "cell_type": "code",
   "execution_count": 17,
   "metadata": {},
   "outputs": [],
   "source": [
    "table=pd.read_csv(\"data/exampleLRMulti.csv\")"
   ]
  },
  {
   "cell_type": "markdown",
   "metadata": {},
   "source": [
    "Get rid of unnamed columns"
   ]
  },
  {
   "cell_type": "code",
   "execution_count": 18,
   "metadata": {},
   "outputs": [],
   "source": [
    "table.drop(table.columns[table.columns.str.contains('unnamed',case = False)],axis = 1, inplace = True)"
   ]
  },
  {
   "cell_type": "markdown",
   "metadata": {},
   "source": [
    "One more time classes are distributed equally, so we can estimate model performance with accuracy score"
   ]
  },
  {
   "cell_type": "code",
   "execution_count": 19,
   "metadata": {},
   "outputs": [
    {
     "data": {
      "text/plain": [
       "column_Y\n",
       "1    336\n",
       "0    333\n",
       "2    331\n",
       "Name: count, dtype: int64"
      ]
     },
     "execution_count": 19,
     "metadata": {},
     "output_type": "execute_result"
    }
   ],
   "source": [
    "table[\"column_Y\"].value_counts()"
   ]
  },
  {
   "cell_type": "code",
   "execution_count": 20,
   "metadata": {},
   "outputs": [],
   "source": [
    "x,y=np.array(table.drop([\"column_Y\"],axis=1)),np.array(table[\"column_Y\"])"
   ]
  },
  {
   "cell_type": "markdown",
   "metadata": {},
   "source": [
    "Estimate Multiclass Logistic Regression with One vs Rest algorithm and Newton Raphson optimisation "
   ]
  },
  {
   "cell_type": "markdown",
   "metadata": {},
   "source": [
    "Since it's an OVR algorithm, it will run model 3 times with 3 columns of estimated parameter"
   ]
  },
  {
   "cell_type": "code",
   "execution_count": 21,
   "metadata": {},
   "outputs": [
    {
     "name": "stdout",
     "output_type": "stream",
     "text": [
      "algorithm did  converge under 100 iterations (at 5 iterations)\n",
      "algorithm did  converge under 100 iterations (at 5 iterations)\n",
      "algorithm did  converge under 100 iterations (at 5 iterations)\n"
     ]
    },
    {
     "data": {
      "text/plain": [
       "array([[ 0.12241142,  0.2961772 , -0.84392429],\n",
       "       [ 0.0618641 , -0.77927438,  0.39345262],\n",
       "       [ 0.0615473 ,  0.00813252, -0.01878925],\n",
       "       [ 0.02809831,  0.07180074, -0.20671125],\n",
       "       [-0.56575934,  0.47820965, -0.49276421],\n",
       "       [ 0.02019647, -0.10160388,  0.05084678],\n",
       "       [-0.49125782,  0.24025151,  0.44457739],\n",
       "       [-0.0106063 ,  0.15383126, -0.06228379],\n",
       "       [ 0.77078083, -0.09937053, -0.05505139],\n",
       "       [ 0.01491474, -0.01253306,  0.05004675]])"
      ]
     },
     "execution_count": 21,
     "metadata": {},
     "output_type": "execute_result"
    }
   ],
   "source": [
    "modelOVR=LogisticRegression(solver=\"nr\",multiclass=\"ovr\",add_intercept=False)\n",
    "modelOVR.fit(x,y)"
   ]
  },
  {
   "cell_type": "markdown",
   "metadata": {},
   "source": [
    "We can also predict. Predictions are made always in the ascending order: \n",
    "\n",
    "    -first column will be 0 class\n",
    "    -second column will be 1 class\n",
    "    -third column will be 2 class\n"
   ]
  },
  {
   "cell_type": "code",
   "execution_count": 22,
   "metadata": {},
   "outputs": [
    {
     "data": {
      "text/plain": [
       "array([[0., 1., 0.],\n",
       "       [0., 1., 0.],\n",
       "       [0., 0., 1.],\n",
       "       ...,\n",
       "       [0., 0., 1.],\n",
       "       [0., 1., 0.],\n",
       "       [0., 0., 1.]])"
      ]
     },
     "execution_count": 22,
     "metadata": {},
     "output_type": "execute_result"
    }
   ],
   "source": [
    "predictionsOVR=modelOVR.predict(x)\n",
    "predictionsOVR "
   ]
  },
  {
   "cell_type": "markdown",
   "metadata": {},
   "source": [
    "We will compare these predictions to true one hot encoded labels"
   ]
  },
  {
   "cell_type": "code",
   "execution_count": 23,
   "metadata": {},
   "outputs": [
    {
     "data": {
      "text/plain": [
       "array([[0, 1, 0],\n",
       "       [1, 0, 0],\n",
       "       [0, 0, 1],\n",
       "       ...,\n",
       "       [0, 0, 1],\n",
       "       [1, 0, 0],\n",
       "       [0, 0, 1]])"
      ]
     },
     "execution_count": 23,
     "metadata": {},
     "output_type": "execute_result"
    }
   ],
   "source": [
    "modelOVR.y"
   ]
  },
  {
   "cell_type": "markdown",
   "metadata": {},
   "source": [
    "Of course, we can always get probability (for OVR it is not normalised, but for predicted values it is normalised!!)"
   ]
  },
  {
   "cell_type": "code",
   "execution_count": 24,
   "metadata": {},
   "outputs": [
    {
     "data": {
      "text/plain": [
       "array([[0.01308505, 0.9858762 , 0.00103875],\n",
       "       [0.29274103, 0.5361041 , 0.17115487],\n",
       "       [0.0418237 , 0.34143318, 0.61674312],\n",
       "       ...,\n",
       "       [0.01818236, 0.12386295, 0.85795469],\n",
       "       [0.31591108, 0.46589593, 0.21819298],\n",
       "       [0.02561   , 0.27372462, 0.70066538]])"
      ]
     },
     "execution_count": 24,
     "metadata": {},
     "output_type": "execute_result"
    }
   ],
   "source": [
    "modelOVR.proba"
   ]
  },
  {
   "cell_type": "markdown",
   "metadata": {},
   "source": [
    "get information criteria"
   ]
  },
  {
   "cell_type": "code",
   "execution_count": 25,
   "metadata": {},
   "outputs": [
    {
     "data": {
      "text/plain": [
       "{'LL': -783.7514402342946,\n",
       " 'AIC_ll': 1587.5028804685892,\n",
       " 'BIC_ll': 1636.5804332584105}"
      ]
     },
     "execution_count": 25,
     "metadata": {},
     "output_type": "execute_result"
    }
   ],
   "source": [
    "modelOVR.get_inference(only_IC=True)"
   ]
  },
  {
   "cell_type": "markdown",
   "metadata": {},
   "source": [
    "### **Evaluate model performance** (Log OVR)"
   ]
  },
  {
   "cell_type": "markdown",
   "metadata": {},
   "source": [
    "We can evaluate accuracy"
   ]
  },
  {
   "cell_type": "code",
   "execution_count": 27,
   "metadata": {},
   "outputs": [
    {
     "data": {
      "text/plain": [
       "0.694"
      ]
     },
     "execution_count": 27,
     "metadata": {},
     "output_type": "execute_result"
    }
   ],
   "source": [
    "accuracy_score(predictionsOVR, modelOVR.y)"
   ]
  },
  {
   "cell_type": "markdown",
   "metadata": {},
   "source": [
    "But we want more intelligent evaluation, so we use cross validation "
   ]
  },
  {
   "cell_type": "code",
   "execution_count": 28,
   "metadata": {},
   "outputs": [
    {
     "name": "stdout",
     "output_type": "stream",
     "text": [
      "algorithm did  converge under 100 iterations (at 5 iterations)\n",
      "algorithm did  converge under 100 iterations (at 5 iterations)\n",
      "algorithm did  converge under 100 iterations (at 5 iterations)\n",
      "algorithm did  converge under 100 iterations (at 5 iterations)\n",
      "algorithm did  converge under 100 iterations (at 4 iterations)\n",
      "algorithm did  converge under 100 iterations (at 5 iterations)\n",
      "algorithm did  converge under 100 iterations (at 5 iterations)\n",
      "algorithm did  converge under 100 iterations (at 5 iterations)\n",
      "algorithm did  converge under 100 iterations (at 5 iterations)\n",
      "algorithm did  converge under 100 iterations (at 5 iterations)\n",
      "algorithm did  converge under 100 iterations (at 5 iterations)\n",
      "algorithm did  converge under 100 iterations (at 5 iterations)\n"
     ]
    }
   ],
   "source": [
    "acc_list=CrossValidation(Class_algorithm=modelOVR,x=x,y=modelOVR.y,metrics_function=accuracy_score,nb_k_fold=4)"
   ]
  },
  {
   "cell_type": "markdown",
   "metadata": {},
   "source": [
    "By averaging we get more \"robust\" accuracy "
   ]
  },
  {
   "cell_type": "code",
   "execution_count": 29,
   "metadata": {},
   "outputs": [
    {
     "name": "stdout",
     "output_type": "stream",
     "text": [
      "[0.664, 0.708, 0.66, 0.648]\n"
     ]
    },
    {
     "data": {
      "text/plain": [
       "0.67"
      ]
     },
     "execution_count": 29,
     "metadata": {},
     "output_type": "execute_result"
    }
   ],
   "source": [
    "print(acc_list)\n",
    "np.mean(acc_list)"
   ]
  },
  {
   "cell_type": "markdown",
   "metadata": {},
   "source": [
    "### **Automatic selection of variables** (Log OVR)"
   ]
  },
  {
   "cell_type": "markdown",
   "metadata": {},
   "source": [
    "We can also do variable selection as we did before, but in this case we will use generalised positive cross entropy as Log Likelihood "
   ]
  },
  {
   "cell_type": "code",
   "execution_count": 30,
   "metadata": {},
   "outputs": [
    {
     "data": {
      "text/plain": [
       "array([0, 1, 8, 6, 4])"
      ]
     },
     "execution_count": 30,
     "metadata": {},
     "output_type": "execute_result"
    }
   ],
   "source": [
    "modelOVR.autoselection(\"forward\",\"BIC_ll\",print_message=False)\n"
   ]
  },
  {
   "cell_type": "code",
   "execution_count": 99,
   "metadata": {},
   "outputs": [
    {
     "data": {
      "text/plain": [
       "array([0, 1, 4, 6, 8])"
      ]
     },
     "execution_count": 99,
     "metadata": {},
     "output_type": "execute_result"
    }
   ],
   "source": [
    "modelOVR.autoselection(\"backward\",\"BIC_ll\",print_message=False)\n"
   ]
  },
  {
   "cell_type": "code",
   "execution_count": 100,
   "metadata": {},
   "outputs": [
    {
     "data": {
      "text/plain": [
       "array([6, 1, 8, 0, 4])"
      ]
     },
     "execution_count": 100,
     "metadata": {},
     "output_type": "execute_result"
    }
   ],
   "source": [
    "col_index=modelOVR.autoselection(\"stepwise\",\"BIC_ll\",print_message=False)\n",
    "col_index"
   ]
  },
  {
   "cell_type": "markdown",
   "metadata": {},
   "source": [
    "## **Logistic Regression Softmax**"
   ]
  },
  {
   "cell_type": "markdown",
   "metadata": {},
   "source": [
    "**Now, let's see another way of solving multicase without running P independent classifiers-> logistic softmax**"
   ]
  },
  {
   "cell_type": "markdown",
   "metadata": {},
   "source": [
    "### **Fit and predict model** (Log SFTMX)"
   ]
  },
  {
   "cell_type": "code",
   "execution_count": 31,
   "metadata": {},
   "outputs": [],
   "source": [
    "from _linear import LinearRegression\n",
    "import _dgp as dg\n",
    "from _metrics import mse_score, CrossValidation, accuracy_score,f1_score\n",
    "from  _logistic import LogisticRegression\n",
    "import numpy as np\n",
    "import pandas as pd"
   ]
  },
  {
   "cell_type": "code",
   "execution_count": 32,
   "metadata": {},
   "outputs": [],
   "source": [
    "table=pd.read_csv(\"data/exampleLRMulti.csv\")\n",
    "table.drop(table.columns[table.columns.str.contains('unnamed',case = False)],axis = 1, inplace = True)\n",
    "x,y=np.array(table.drop([\"column_Y\"],axis=1)),np.array(table[\"column_Y\"])\n",
    "columns_x=table.drop([\"column_Y\"],axis=1).columns.tolist()"
   ]
  },
  {
   "cell_type": "code",
   "execution_count": 33,
   "metadata": {},
   "outputs": [
    {
     "name": "stdout",
     "output_type": "stream",
     "text": [
      "algorithm did  converge under 100 iterations (at 85 iterations)\n"
     ]
    },
    {
     "data": {
      "text/plain": [
       "array([[-0.1730108 , -0.49281646],\n",
       "       [ 0.8199887 ,  0.93342982],\n",
       "       [-0.27379707, -0.81083862],\n",
       "       [ 0.0607405 , -0.00339066],\n",
       "       [ 0.1586324 ,  0.20834796],\n",
       "       [ 0.01743636,  0.8561222 ],\n",
       "       [-0.03942523, -0.13332718],\n",
       "       [-0.72704995, -0.04058517],\n",
       "       [ 0.04325651,  0.18452295],\n",
       "       [ 0.64192215, -0.17627129],\n",
       "       [-0.03731455, -0.06261774]])"
      ]
     },
     "execution_count": 33,
     "metadata": {},
     "output_type": "execute_result"
    }
   ],
   "source": [
    "modelSFT=LogisticRegression(solver=\"gd\",add_intercept=True)#dont use nr for the moment\n",
    "modelSFT.fit(x,y)"
   ]
  },
  {
   "cell_type": "markdown",
   "metadata": {},
   "source": [
    "As you see, when we have three classes, we consider one of them as reference ( set up to 0 in exponential function when doing the prediction)"
   ]
  },
  {
   "cell_type": "markdown",
   "metadata": {},
   "source": [
    "We can compare them to modelOVR parameters"
   ]
  },
  {
   "cell_type": "code",
   "execution_count": 34,
   "metadata": {},
   "outputs": [
    {
     "data": {
      "text/plain": [
       "array([[ 0.12241142,  0.2961772 , -0.84392429],\n",
       "       [ 0.0618641 , -0.77927438,  0.39345262],\n",
       "       [ 0.0615473 ,  0.00813252, -0.01878925],\n",
       "       [ 0.02809831,  0.07180074, -0.20671125],\n",
       "       [-0.56575934,  0.47820965, -0.49276421],\n",
       "       [ 0.02019647, -0.10160388,  0.05084678],\n",
       "       [-0.49125782,  0.24025151,  0.44457739],\n",
       "       [-0.0106063 ,  0.15383126, -0.06228379],\n",
       "       [ 0.77078083, -0.09937053, -0.05505139],\n",
       "       [ 0.01491474, -0.01253306,  0.05004675]])"
      ]
     },
     "execution_count": 34,
     "metadata": {},
     "output_type": "execute_result"
    }
   ],
   "source": [
    "modelOVR.params"
   ]
  },
  {
   "cell_type": "markdown",
   "metadata": {},
   "source": [
    "also predict"
   ]
  },
  {
   "cell_type": "code",
   "execution_count": 35,
   "metadata": {},
   "outputs": [
    {
     "data": {
      "text/plain": [
       "array([[0., 1.],\n",
       "       [0., 1.],\n",
       "       [0., 0.],\n",
       "       ...,\n",
       "       [0., 0.],\n",
       "       [0., 1.],\n",
       "       [0., 0.]])"
      ]
     },
     "execution_count": 35,
     "metadata": {},
     "output_type": "execute_result"
    }
   ],
   "source": [
    "modelSFT.predict(x)"
   ]
  },
  {
   "cell_type": "code",
   "execution_count": 36,
   "metadata": {},
   "outputs": [
    {
     "data": {
      "text/plain": [
       "array([[0.05422397, 0.93921357, 0.00656247],\n",
       "       [0.31764523, 0.44164768, 0.24070709],\n",
       "       [0.06065304, 0.32045348, 0.61889347],\n",
       "       ...,\n",
       "       [0.0297319 , 0.10861589, 0.86165221],\n",
       "       [0.32299072, 0.38938157, 0.2876277 ],\n",
       "       [0.0404247 , 0.2834663 , 0.676109  ]])"
      ]
     },
     "execution_count": 36,
     "metadata": {},
     "output_type": "execute_result"
    }
   ],
   "source": [
    "modelSFT.proba"
   ]
  },
  {
   "cell_type": "code",
   "execution_count": 37,
   "metadata": {},
   "outputs": [
    {
     "data": {
      "text/plain": [
       "array([[0.01308505, 0.9858762 , 0.00103875],\n",
       "       [0.29274103, 0.5361041 , 0.17115487],\n",
       "       [0.0418237 , 0.34143318, 0.61674312],\n",
       "       ...,\n",
       "       [0.01818236, 0.12386295, 0.85795469],\n",
       "       [0.31591108, 0.46589593, 0.21819298],\n",
       "       [0.02561   , 0.27372462, 0.70066538]])"
      ]
     },
     "execution_count": 37,
     "metadata": {},
     "output_type": "execute_result"
    }
   ],
   "source": [
    "modelOVR.proba"
   ]
  },
  {
   "cell_type": "code",
   "execution_count": 38,
   "metadata": {},
   "outputs": [
    {
     "data": {
      "text/plain": [
       "{'LL': -487.9286245107654,\n",
       " 'AIC_ll': 997.8572490215308,\n",
       " 'BIC_ll': 1051.8425570903344}"
      ]
     },
     "execution_count": 38,
     "metadata": {},
     "output_type": "execute_result"
    }
   ],
   "source": [
    "modelSFT.get_inference(only_IC=True)"
   ]
  },
  {
   "cell_type": "code",
   "execution_count": 39,
   "metadata": {},
   "outputs": [
    {
     "data": {
      "text/html": [
       "<div>\n",
       "<style scoped>\n",
       "    .dataframe tbody tr th:only-of-type {\n",
       "        vertical-align: middle;\n",
       "    }\n",
       "\n",
       "    .dataframe tbody tr th {\n",
       "        vertical-align: top;\n",
       "    }\n",
       "\n",
       "    .dataframe thead th {\n",
       "        text-align: right;\n",
       "    }\n",
       "</style>\n",
       "<table border=\"1\" class=\"dataframe\">\n",
       "  <thead>\n",
       "    <tr style=\"text-align: right;\">\n",
       "      <th></th>\n",
       "      <th>coef</th>\n",
       "      <th>std</th>\n",
       "      <th>z value</th>\n",
       "      <th>p value</th>\n",
       "      <th>p value star</th>\n",
       "      <th>odds ratio</th>\n",
       "    </tr>\n",
       "  </thead>\n",
       "  <tbody>\n",
       "    <tr>\n",
       "      <th>intercep_0</th>\n",
       "      <td>-0.173</td>\n",
       "      <td>0.14</td>\n",
       "      <td>-1.27</td>\n",
       "      <td>0.206</td>\n",
       "      <td></td>\n",
       "      <td>0.84</td>\n",
       "    </tr>\n",
       "    <tr>\n",
       "      <th>column_0_0</th>\n",
       "      <td>0.82</td>\n",
       "      <td>0.08</td>\n",
       "      <td>10.75</td>\n",
       "      <td>0.0</td>\n",
       "      <td>***</td>\n",
       "      <td>2.27</td>\n",
       "    </tr>\n",
       "    <tr>\n",
       "      <th>column_1_0</th>\n",
       "      <td>-0.2738</td>\n",
       "      <td>0.08</td>\n",
       "      <td>-3.27</td>\n",
       "      <td>0.001</td>\n",
       "      <td>***</td>\n",
       "      <td>0.76</td>\n",
       "    </tr>\n",
       "    <tr>\n",
       "      <th>column_2_0</th>\n",
       "      <td>0.0607</td>\n",
       "      <td>0.09</td>\n",
       "      <td>0.65</td>\n",
       "      <td>0.513</td>\n",
       "      <td></td>\n",
       "      <td>1.06</td>\n",
       "    </tr>\n",
       "    <tr>\n",
       "      <th>column_3_0</th>\n",
       "      <td>0.1586</td>\n",
       "      <td>0.1</td>\n",
       "      <td>1.65</td>\n",
       "      <td>0.098</td>\n",
       "      <td>*</td>\n",
       "      <td>1.17</td>\n",
       "    </tr>\n",
       "    <tr>\n",
       "      <th>column_4_0</th>\n",
       "      <td>0.0174</td>\n",
       "      <td>0.08</td>\n",
       "      <td>0.22</td>\n",
       "      <td>0.824</td>\n",
       "      <td></td>\n",
       "      <td>1.02</td>\n",
       "    </tr>\n",
       "    <tr>\n",
       "      <th>column_5_0</th>\n",
       "      <td>-0.0394</td>\n",
       "      <td>0.09</td>\n",
       "      <td>-0.43</td>\n",
       "      <td>0.669</td>\n",
       "      <td></td>\n",
       "      <td>0.96</td>\n",
       "    </tr>\n",
       "    <tr>\n",
       "      <th>column_6_0</th>\n",
       "      <td>-0.727</td>\n",
       "      <td>0.07</td>\n",
       "      <td>-10.16</td>\n",
       "      <td>0.0</td>\n",
       "      <td>***</td>\n",
       "      <td>0.48</td>\n",
       "    </tr>\n",
       "    <tr>\n",
       "      <th>column_7_0</th>\n",
       "      <td>0.0433</td>\n",
       "      <td>0.09</td>\n",
       "      <td>0.46</td>\n",
       "      <td>0.644</td>\n",
       "      <td></td>\n",
       "      <td>1.04</td>\n",
       "    </tr>\n",
       "    <tr>\n",
       "      <th>column_8_0</th>\n",
       "      <td>0.6419</td>\n",
       "      <td>0.07</td>\n",
       "      <td>8.97</td>\n",
       "      <td>0.0</td>\n",
       "      <td>***</td>\n",
       "      <td>1.9</td>\n",
       "    </tr>\n",
       "    <tr>\n",
       "      <th>column_9_0</th>\n",
       "      <td>-0.0373</td>\n",
       "      <td>0.09</td>\n",
       "      <td>-0.4</td>\n",
       "      <td>0.688</td>\n",
       "      <td></td>\n",
       "      <td>0.96</td>\n",
       "    </tr>\n",
       "    <tr>\n",
       "      <th>intercep_1</th>\n",
       "      <td>-0.4928</td>\n",
       "      <td>0.15</td>\n",
       "      <td>-3.33</td>\n",
       "      <td>0.001</td>\n",
       "      <td>***</td>\n",
       "      <td>0.61</td>\n",
       "    </tr>\n",
       "    <tr>\n",
       "      <th>column_0_1</th>\n",
       "      <td>0.9334</td>\n",
       "      <td>0.08</td>\n",
       "      <td>12.1</td>\n",
       "      <td>0.0</td>\n",
       "      <td>***</td>\n",
       "      <td>2.54</td>\n",
       "    </tr>\n",
       "    <tr>\n",
       "      <th>column_1_1</th>\n",
       "      <td>-0.8108</td>\n",
       "      <td>0.08</td>\n",
       "      <td>-10.34</td>\n",
       "      <td>0.0</td>\n",
       "      <td>***</td>\n",
       "      <td>0.44</td>\n",
       "    </tr>\n",
       "    <tr>\n",
       "      <th>column_2_1</th>\n",
       "      <td>-0.0034</td>\n",
       "      <td>0.1</td>\n",
       "      <td>-0.03</td>\n",
       "      <td>0.972</td>\n",
       "      <td></td>\n",
       "      <td>1.0</td>\n",
       "    </tr>\n",
       "    <tr>\n",
       "      <th>column_3_1</th>\n",
       "      <td>0.2083</td>\n",
       "      <td>0.1</td>\n",
       "      <td>2.09</td>\n",
       "      <td>0.037</td>\n",
       "      <td>**</td>\n",
       "      <td>1.23</td>\n",
       "    </tr>\n",
       "    <tr>\n",
       "      <th>column_4_1</th>\n",
       "      <td>0.8561</td>\n",
       "      <td>0.08</td>\n",
       "      <td>10.11</td>\n",
       "      <td>0.0</td>\n",
       "      <td>***</td>\n",
       "      <td>2.35</td>\n",
       "    </tr>\n",
       "    <tr>\n",
       "      <th>column_5_1</th>\n",
       "      <td>-0.1333</td>\n",
       "      <td>0.1</td>\n",
       "      <td>-1.39</td>\n",
       "      <td>0.165</td>\n",
       "      <td></td>\n",
       "      <td>0.88</td>\n",
       "    </tr>\n",
       "    <tr>\n",
       "      <th>column_6_1</th>\n",
       "      <td>-0.0406</td>\n",
       "      <td>0.06</td>\n",
       "      <td>-0.64</td>\n",
       "      <td>0.521</td>\n",
       "      <td></td>\n",
       "      <td>0.96</td>\n",
       "    </tr>\n",
       "    <tr>\n",
       "      <th>column_7_1</th>\n",
       "      <td>0.1845</td>\n",
       "      <td>0.1</td>\n",
       "      <td>1.89</td>\n",
       "      <td>0.059</td>\n",
       "      <td>*</td>\n",
       "      <td>1.2</td>\n",
       "    </tr>\n",
       "    <tr>\n",
       "      <th>column_8_1</th>\n",
       "      <td>-0.1763</td>\n",
       "      <td>0.07</td>\n",
       "      <td>-2.52</td>\n",
       "      <td>0.012</td>\n",
       "      <td>**</td>\n",
       "      <td>0.84</td>\n",
       "    </tr>\n",
       "    <tr>\n",
       "      <th>column_9_1</th>\n",
       "      <td>-0.0626</td>\n",
       "      <td>0.1</td>\n",
       "      <td>-0.63</td>\n",
       "      <td>0.526</td>\n",
       "      <td></td>\n",
       "      <td>0.94</td>\n",
       "    </tr>\n",
       "  </tbody>\n",
       "</table>\n",
       "</div>"
      ],
      "text/plain": [
       "               coef   std z value p value p value star odds ratio\n",
       "intercep_0   -0.173  0.14   -1.27   0.206                    0.84\n",
       "column_0_0     0.82  0.08   10.75     0.0          ***       2.27\n",
       "column_1_0  -0.2738  0.08   -3.27   0.001          ***       0.76\n",
       "column_2_0   0.0607  0.09    0.65   0.513                    1.06\n",
       "column_3_0   0.1586   0.1    1.65   0.098            *       1.17\n",
       "column_4_0   0.0174  0.08    0.22   0.824                    1.02\n",
       "column_5_0  -0.0394  0.09   -0.43   0.669                    0.96\n",
       "column_6_0   -0.727  0.07  -10.16     0.0          ***       0.48\n",
       "column_7_0   0.0433  0.09    0.46   0.644                    1.04\n",
       "column_8_0   0.6419  0.07    8.97     0.0          ***        1.9\n",
       "column_9_0  -0.0373  0.09    -0.4   0.688                    0.96\n",
       "intercep_1  -0.4928  0.15   -3.33   0.001          ***       0.61\n",
       "column_0_1   0.9334  0.08    12.1     0.0          ***       2.54\n",
       "column_1_1  -0.8108  0.08  -10.34     0.0          ***       0.44\n",
       "column_2_1  -0.0034   0.1   -0.03   0.972                     1.0\n",
       "column_3_1   0.2083   0.1    2.09   0.037           **       1.23\n",
       "column_4_1   0.8561  0.08   10.11     0.0          ***       2.35\n",
       "column_5_1  -0.1333   0.1   -1.39   0.165                    0.88\n",
       "column_6_1  -0.0406  0.06   -0.64   0.521                    0.96\n",
       "column_7_1   0.1845   0.1    1.89   0.059            *        1.2\n",
       "column_8_1  -0.1763  0.07   -2.52   0.012           **       0.84\n",
       "column_9_1  -0.0626   0.1   -0.63   0.526                    0.94"
      ]
     },
     "execution_count": 39,
     "metadata": {},
     "output_type": "execute_result"
    }
   ],
   "source": [
    "modelSFT.get_inference(only_IC=False,ordered_columns_names=columns_x)"
   ]
  },
  {
   "cell_type": "markdown",
   "metadata": {},
   "source": [
    "Since we have 3 classes and the last one ( class 2 ) is used as a reference, we get two vectors of coefficients for class 0 and 1 as well as their significance"
   ]
  },
  {
   "cell_type": "markdown",
   "metadata": {},
   "source": [
    "### **Automatic selection of variables** (Log SFTMX)"
   ]
  },
  {
   "cell_type": "code",
   "execution_count": 40,
   "metadata": {},
   "outputs": [
    {
     "data": {
      "text/plain": [
       "array([4, 8, 1, 0, 6])"
      ]
     },
     "execution_count": 40,
     "metadata": {},
     "output_type": "execute_result"
    }
   ],
   "source": [
    "modelSFT.autoselection(\"forward\",\"BIC_ll\",print_message=False)"
   ]
  },
  {
   "cell_type": "code",
   "execution_count": 44,
   "metadata": {},
   "outputs": [
    {
     "data": {
      "text/plain": [
       "array([6, 0, 8, 4, 1])"
      ]
     },
     "execution_count": 44,
     "metadata": {},
     "output_type": "execute_result"
    }
   ],
   "source": [
    "modelSFT.autoselection(\"stepwise\",\"BIC_ll\",print_message=False)"
   ]
  },
  {
   "cell_type": "code",
   "execution_count": 45,
   "metadata": {},
   "outputs": [
    {
     "data": {
      "text/plain": [
       "array([0, 1, 4, 6, 8])"
      ]
     },
     "execution_count": 45,
     "metadata": {},
     "output_type": "execute_result"
    }
   ],
   "source": [
    "modelSFT.autoselection(\"backward\",\"BIC_ll\",print_message=False)"
   ]
  },
  {
   "cell_type": "markdown",
   "metadata": {},
   "source": [
    "### **Evaluate model performance** (Log SFTMX)"
   ]
  },
  {
   "cell_type": "code",
   "execution_count": 41,
   "metadata": {},
   "outputs": [
    {
     "name": "stdout",
     "output_type": "stream",
     "text": [
      "algorithm did not converge under 100 iterations,so the calculated parameter is biased\n",
      "algorithm did  converge under 100 iterations (at 97 iterations)\n",
      "algorithm did not converge under 100 iterations,so the calculated parameter is biased\n",
      "algorithm did not converge under 100 iterations,so the calculated parameter is biased\n"
     ]
    },
    {
     "data": {
      "text/plain": [
       "0.76"
      ]
     },
     "execution_count": 41,
     "metadata": {},
     "output_type": "execute_result"
    }
   ],
   "source": [
    "meansftmx=CrossValidation(Class_algorithm=modelSFT,x=x,y=modelSFT.y,metrics_function=accuracy_score,nb_k_fold=4)\n",
    "np.mean(meansftmx)"
   ]
  }
 ],
 "metadata": {
  "kernelspec": {
   "display_name": "my_env",
   "language": "python",
   "name": "python3"
  },
  "language_info": {
   "codemirror_mode": {
    "name": "ipython",
    "version": 3
   },
   "file_extension": ".py",
   "mimetype": "text/x-python",
   "name": "python",
   "nbconvert_exporter": "python",
   "pygments_lexer": "ipython3",
   "version": "3.11.4"
  }
 },
 "nbformat": 4,
 "nbformat_minor": 2
}
